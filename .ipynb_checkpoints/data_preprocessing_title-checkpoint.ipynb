{
 "cells": [
  {
   "cell_type": "code",
   "execution_count": 2,
   "metadata": {},
   "outputs": [],
   "source": [
    "import csv\n",
    "import os\n",
    "from collections import defaultdict\n",
    "import pandas as pd\n",
    "from nltk.corpus import stopwords\n",
    "from textblob import TextBlob, Word\n",
    "from gensim.scripts.glove2word2vec import glove2word2vec\n",
    "from nltk.stem import PorterStemmer\n",
    "from sklearn.feature_extraction.text import TfidfVectorizer\n",
    "from sklearn.feature_extraction.text import CountVectorizer\n",
    "from gensim.models import KeyedVectors # load the Stanford GloVe model\n",
    "#nltk.download()"
   ]
  },
  {
   "cell_type": "code",
   "execution_count": 3,
   "metadata": {
    "collapsed": true
   },
   "outputs": [],
   "source": [
    "os.getcwd()\n",
    "os.chdir(\"C:\\\\Users\\\\Naini\\\\final-project\\\\News-Headline-Generation\\\\data\")"
   ]
  },
  {
   "cell_type": "markdown",
   "metadata": {},
   "source": [
    "### 1. Basic Feature Extraction"
   ]
  },
  {
   "cell_type": "code",
   "execution_count": 4,
   "metadata": {
    "collapsed": true
   },
   "outputs": [],
   "source": [
    "#reading csv\n",
    "train = pd.read_csv('output.csv', encoding='ISO-8859-1',low_memory=False)"
   ]
  },
  {
   "cell_type": "code",
   "execution_count": 5,
   "metadata": {},
   "outputs": [
    {
     "data": {
      "text/plain": [
       "0         House Republicans Fret About Winning Their Hea...\n",
       "1         Rift Between Officers and Residents as Killing...\n",
       "2         Tyrus Wong, Ã¢ÂÂBambiÃ¢ÂÂ Artist Thwarted ...\n",
       "3         Among Deaths in 2016, a Heavy Toll in Pop Musi...\n",
       "4         Kim Jong-un Says North Korea Is Preparing to T...\n",
       "5         Sick With a Cold, Queen Elizabeth Misses New Y...\n",
       "6         TaiwanÃ¢ÂÂs President Accuses China of Renew...\n",
       "7         After Ã¢ÂÂThe Biggest Loser,Ã¢ÂÂ Their Bod...\n",
       "8         First, a Mixtape. Then a Romance. - The New Yo...\n",
       "9         Calling on Angels While Enduring the Trials of...\n",
       "10        Weak Federal Powers Could Limit TrumpÃ¢ÂÂs C...\n",
       "11        Can Carbon Capture Technology Prosper Under Tr...\n",
       "12        Mar-a-Lago, the Future Winter White House and ...\n",
       "13        How to form healthy habits in your 20s - The N...\n",
       "14        Turning Your Vacation Photos Into Works of Art...\n",
       "15        As Second Avenue Subway Opens, a Train Delay E...\n",
       "16        Dylann Roof Himself Rejects Best Defense Again...\n",
       "17        ModiÃ¢ÂÂs Cash Ban Brings Pain, but Corrupti...\n",
       "18        Suicide Bombing in Baghdad Kills at Least 36 -...\n",
       "19        Fecal Pollution Taints Water at MelbourneÃ¢ÂÂ...\n",
       "20        N.F.L. Playoffs: Schedule, Matchups and Odds -...\n",
       "21        Mariah CareyÃ¢ÂÂs Manager Blames Producers f...\n",
       "22        Damaged by War, SyriaÃ¢ÂÂs Cultural Sites Ri...\n",
       "23        George MichaelÃ¢ÂÂs Freedom Video: An Oral H...\n",
       "24        With New Congress Poised to Convene, ObamaÃ¢Â...\n",
       "25        Republicans Stonewalled Obama. Now the Ball Is...\n",
       "26        Istanbul, Donald Trump, Benjamin Netanyahu: Yo...\n",
       "27        Inside Trump Defense Secretary PickÃ¢ÂÂs Eff...\n",
       "28        ISIS Claims Responsibility for Istanbul Nightc...\n",
       "29        The Afghan War and the Evolution of Obama - Th...\n",
       "                                ...                        \n",
       "142540    Which senators will stand up to Trump, and whi...\n",
       "142541    Cease-fire to begin across Syria starting at m...\n",
       "142542    DemocratsÃ¢ÂÂ new leader suggests John Kerry...\n",
       "142543    An obscure E.U. regulation may have saved live...\n",
       "142544    Rare coast-to-coast cold snap to engulf Lower ...\n",
       "142545    The world today looks ominously like it did be...\n",
       "142546    The Asian American Ã¢ÂÂadvantageÃ¢ÂÂ that ...\n",
       "142547    A CIA calendar the CIA gift shop refuses to se...\n",
       "142548    A woman ordered canaries to brighten her home....\n",
       "142549    Putin says he wonÃ¢ÂÂt deport U.S. diplomats...\n",
       "142550    Trump praises PutinÃ¢ÂÂs response to sanctio...\n",
       "142551    Russia slams Obama administration and CNN for ...\n",
       "142552    N.C.Ã¢ÂÂs outgoing GOP governor appears to m...\n",
       "142553    How IndianaÃ¢ÂÂs school voucher program soar...\n",
       "142554    She was on course for stardom. Then she entrus...\n",
       "142555                    2016: One year in the Upside Down\n",
       "142556    On Russia, Trump is incapable of looking past ...\n",
       "142557    Kerry manages to alienate our closest friends ...\n",
       "142558    Hamilton helped elect his rival to keep an Ã¢Â...\n",
       "142559              2017 is not looking so good for Germany\n",
       "142560                    What U.S. Muslims fear from Trump\n",
       "142561           Trump refuses to face reality about Russia\n",
       "142562    British leaderÃÂ Theresa May breaks with John...\n",
       "142563    ChinaÃ¢ÂÂs vow to shut down its ivory trade ...\n",
       "142564    A Mormon Tabernacle Choir member is resigning ...\n",
       "142565    An eavesdropping Uber driver saved his 16-year...\n",
       "142566    Plane carrying six people returning from a Cav...\n",
       "142567    After helping a fraction of homeowners expecte...\n",
       "142568    Yes, this is real: Michigan just banned bannin...\n",
       "142569    What happened in Washington state after voters...\n",
       "Name: title, Length: 142570, dtype: object"
      ]
     },
     "execution_count": 5,
     "metadata": {},
     "output_type": "execute_result"
    }
   ],
   "source": [
    "train = train['title']\n",
    "train"
   ]
  },
  {
   "cell_type": "code",
   "execution_count": 6,
   "metadata": {},
   "outputs": [
    {
     "data": {
      "text/plain": [
       "0         House Republicans Fret About Winning Their Hea...\n",
       "1         Rift Between Officers and Residents as Killing...\n",
       "2         Tyrus Wong, Ã¢ÂÂBambiÃ¢ÂÂ Artist Thwarted ...\n",
       "3         Among Deaths in 2016, a Heavy Toll in Pop Musi...\n",
       "4         Kim Jong-un Says North Korea Is Preparing to T...\n",
       "5         Sick With a Cold, Queen Elizabeth Misses New Y...\n",
       "6         TaiwanÃ¢ÂÂs President Accuses China of Renew...\n",
       "7         After Ã¢ÂÂThe Biggest Loser,Ã¢ÂÂ Their Bod...\n",
       "8         First, a Mixtape. Then a Romance. - The New Yo...\n",
       "9         Calling on Angels While Enduring the Trials of...\n",
       "10        Weak Federal Powers Could Limit TrumpÃ¢ÂÂs C...\n",
       "11        Can Carbon Capture Technology Prosper Under Tr...\n",
       "12        Mar-a-Lago, the Future Winter White House and ...\n",
       "13        How to form healthy habits in your 20s - The N...\n",
       "14        Turning Your Vacation Photos Into Works of Art...\n",
       "15        As Second Avenue Subway Opens, a Train Delay E...\n",
       "16        Dylann Roof Himself Rejects Best Defense Again...\n",
       "17        ModiÃ¢ÂÂs Cash Ban Brings Pain, but Corrupti...\n",
       "18        Suicide Bombing in Baghdad Kills at Least 36 -...\n",
       "19        Fecal Pollution Taints Water at MelbourneÃ¢ÂÂ...\n",
       "20        N.F.L. Playoffs: Schedule, Matchups and Odds -...\n",
       "21        Mariah CareyÃ¢ÂÂs Manager Blames Producers f...\n",
       "22        Damaged by War, SyriaÃ¢ÂÂs Cultural Sites Ri...\n",
       "23        George MichaelÃ¢ÂÂs Freedom Video: An Oral H...\n",
       "24        With New Congress Poised to Convene, ObamaÃ¢Â...\n",
       "25        Republicans Stonewalled Obama. Now the Ball Is...\n",
       "26        Istanbul, Donald Trump, Benjamin Netanyahu: Yo...\n",
       "27        Inside Trump Defense Secretary PickÃ¢ÂÂs Eff...\n",
       "28        ISIS Claims Responsibility for Istanbul Nightc...\n",
       "29        The Afghan War and the Evolution of Obama - Th...\n",
       "                                ...                        \n",
       "142540    Which senators will stand up to Trump, and whi...\n",
       "142541    Cease-fire to begin across Syria starting at m...\n",
       "142542    DemocratsÃ¢ÂÂ new leader suggests John Kerry...\n",
       "142543    An obscure E.U. regulation may have saved live...\n",
       "142544    Rare coast-to-coast cold snap to engulf Lower ...\n",
       "142545    The world today looks ominously like it did be...\n",
       "142546    The Asian American Ã¢ÂÂadvantageÃ¢ÂÂ that ...\n",
       "142547    A CIA calendar the CIA gift shop refuses to se...\n",
       "142548    A woman ordered canaries to brighten her home....\n",
       "142549    Putin says he wonÃ¢ÂÂt deport U.S. diplomats...\n",
       "142550    Trump praises PutinÃ¢ÂÂs response to sanctio...\n",
       "142551    Russia slams Obama administration and CNN for ...\n",
       "142552    N.C.Ã¢ÂÂs outgoing GOP governor appears to m...\n",
       "142553    How IndianaÃ¢ÂÂs school voucher program soar...\n",
       "142554    She was on course for stardom. Then she entrus...\n",
       "142555                    2016: One year in the Upside Down\n",
       "142556    On Russia, Trump is incapable of looking past ...\n",
       "142557    Kerry manages to alienate our closest friends ...\n",
       "142558    Hamilton helped elect his rival to keep an Ã¢Â...\n",
       "142559              2017 is not looking so good for Germany\n",
       "142560                    What U.S. Muslims fear from Trump\n",
       "142561           Trump refuses to face reality about Russia\n",
       "142562    British leaderÃÂ Theresa May breaks with John...\n",
       "142563    ChinaÃ¢ÂÂs vow to shut down its ivory trade ...\n",
       "142564    A Mormon Tabernacle Choir member is resigning ...\n",
       "142565    An eavesdropping Uber driver saved his 16-year...\n",
       "142566    Plane carrying six people returning from a Cav...\n",
       "142567    After helping a fraction of homeowners expecte...\n",
       "142568    Yes, this is real: Michigan just banned bannin...\n",
       "142569    What happened in Washington state after voters...\n",
       "Name: title, Length: 142568, dtype: object"
      ]
     },
     "execution_count": 6,
     "metadata": {},
     "output_type": "execute_result"
    }
   ],
   "source": [
    "train = train[train.notnull()]\n",
    "train"
   ]
  },
  {
   "cell_type": "code",
   "execution_count": null,
   "metadata": {
    "collapsed": true
   },
   "outputs": [],
   "source": [
    "#Number of stopwords\n",
    "#stop = stopwords.words('english')"
   ]
  },
  {
   "cell_type": "code",
   "execution_count": null,
   "metadata": {
    "collapsed": true
   },
   "outputs": [],
   "source": [
    "#train['stopwords'] = train['content'].apply(lambda x: len([x for x in x.split() if x in stop]))\n",
    "#train[['content','stopwords']].head()"
   ]
  },
  {
   "cell_type": "markdown",
   "metadata": {},
   "source": [
    "### 2. Basic Pre-processing"
   ]
  },
  {
   "cell_type": "code",
   "execution_count": 7,
   "metadata": {},
   "outputs": [
    {
     "data": {
      "text/plain": [
       "0    house republicans fret about winning their hea...\n",
       "1    rift between officers and residents as killing...\n",
       "2    tyrus wong, ã¢ââbambiã¢ââ artist thwarted ...\n",
       "3    among deaths in 2016, a heavy toll in pop musi...\n",
       "4    kim jong-un says north korea is preparing to t...\n",
       "Name: title, dtype: object"
      ]
     },
     "execution_count": 7,
     "metadata": {},
     "output_type": "execute_result"
    }
   ],
   "source": [
    "#transform data into lower case\n",
    "train = train.apply(lambda x: \" \".join(x.lower() for x in x.split()))\n",
    "train.head()"
   ]
  },
  {
   "cell_type": "code",
   "execution_count": 8,
   "metadata": {},
   "outputs": [
    {
     "data": {
      "text/plain": [
       "0         house republicans fret about winning their hea...\n",
       "1         rift between officers and residents as killing...\n",
       "2         tyrus wong ãââbambiãââ artist thwarted by raci...\n",
       "3         among deaths in 2016 a heavy toll in pop music...\n",
       "4         kim jongun says north korea is preparing to te...\n",
       "5         sick with a cold queen elizabeth misses new ye...\n",
       "6         taiwanãââs president accuses china of renewed ...\n",
       "7         after ãââthe biggest loserãââ their bodies fou...\n",
       "8         first a mixtape then a romance  the new york t...\n",
       "9         calling on angels while enduring the trials of...\n",
       "10        weak federal powers could limit trumpãââs clim...\n",
       "11        can carbon capture technology prosper under tr...\n",
       "12        maralago the future winter white house and hom...\n",
       "13        how to form healthy habits in your 20s  the ne...\n",
       "14        turning your vacation photos into works of art...\n",
       "15        as second avenue subway opens a train delay en...\n",
       "16        dylann roof himself rejects best defense again...\n",
       "17        modiãââs cash ban brings pain but corruptionwe...\n",
       "18        suicide bombing in baghdad kills at least 36  ...\n",
       "19        fecal pollution taints water at melbourneãââs ...\n",
       "20        nfl playoffs schedule matchups and odds  the n...\n",
       "21        mariah careyãââs manager blames producers for ...\n",
       "22        damaged by war syriaãââs cultural sites rise a...\n",
       "23        george michaelãââs freedom video an oral histo...\n",
       "24        with new congress poised to convene obamaãââs ...\n",
       "25        republicans stonewalled obama now the ball is ...\n",
       "26        istanbul donald trump benjamin netanyahu your ...\n",
       "27        inside trump defense secretary pickãââs effort...\n",
       "28        isis claims responsibility for istanbul nightc...\n",
       "29        the afghan war and the evolution of obama  the...\n",
       "                                ...                        \n",
       "142540    which senators will stand up to trump and whic...\n",
       "142541    ceasefire to begin across syria starting at mi...\n",
       "142542    democratsãââ new leader suggests john kerry ju...\n",
       "142543    an obscure eu regulation may have saved lives ...\n",
       "142544    rare coasttocoast cold snap to engulf lower 48...\n",
       "142545    the world today looks ominously like it did be...\n",
       "142546    the asian american ãââadvantageãââ that is act...\n",
       "142547    a cia calendar the cia gift shop refuses to se...\n",
       "142548    a woman ordered canaries to brighten her home ...\n",
       "142549    putin says he wonãâât deport us diplomats as h...\n",
       "142550    trump praises putinãââs response to sanctions ...\n",
       "142551    russia slams obama administration and cnn for ...\n",
       "142552    ncãââs outgoing gop governor appears to make o...\n",
       "142553    how indianaãââs school voucher program soared ...\n",
       "142554    she was on course for stardom then she entrust...\n",
       "142555                     2016 one year in the upside down\n",
       "142556    on russia trump is incapable of looking past p...\n",
       "142557    kerry manages to alienate our closest friends ...\n",
       "142558    hamilton helped elect his rival to keep an ãââ...\n",
       "142559              2017 is not looking so good for germany\n",
       "142560                      what us muslims fear from trump\n",
       "142561           trump refuses to face reality about russia\n",
       "142562    british leaderãâ theresa may breaks with john ...\n",
       "142563    chinaãââs vow to shut down its ivory trade by ...\n",
       "142564    a mormon tabernacle choir member is resigning ...\n",
       "142565    an eavesdropping uber driver saved his 16yearo...\n",
       "142566    plane carrying six people returning from a cav...\n",
       "142567    after helping a fraction of homeowners expecte...\n",
       "142568    yes this is real michigan just banned banning ...\n",
       "142569    what happened in washington state after voters...\n",
       "Name: title, Length: 142568, dtype: object"
      ]
     },
     "execution_count": 8,
     "metadata": {},
     "output_type": "execute_result"
    }
   ],
   "source": [
    "#Removing Punctuation\n",
    "train = train.str.replace('[^\\w\\s]','')\n",
    "train"
   ]
  },
  {
   "cell_type": "code",
   "execution_count": 9,
   "metadata": {
    "collapsed": true
   },
   "outputs": [],
   "source": [
    "train.to_csv('output_cleaned_title.csv', index=False)"
   ]
  },
  {
   "cell_type": "code",
   "execution_count": null,
   "metadata": {
    "collapsed": true
   },
   "outputs": [],
   "source": [
    "#Removal of Stop Words\n",
    "#train['content'] = train['content'].apply(lambda x: \" \".join(x for x in x.split() if x not in stop))\n",
    "#train['content'].head()"
   ]
  },
  {
   "cell_type": "code",
   "execution_count": null,
   "metadata": {
    "collapsed": true
   },
   "outputs": [],
   "source": [
    "#Common word removal\n",
    "#freq = pd.Series(' '.join(train['content']).split()).value_counts()[:10]\n",
    "#freq"
   ]
  },
  {
   "cell_type": "code",
   "execution_count": null,
   "metadata": {
    "collapsed": true
   },
   "outputs": [],
   "source": [
    "#freq = list(freq.index)\n",
    "#train['content'] = train['content'].apply(lambda x: \" \".join(x for x in x.split() if x not in freq))\n",
    "#train['content'].head()"
   ]
  },
  {
   "cell_type": "code",
   "execution_count": null,
   "metadata": {
    "collapsed": true
   },
   "outputs": [],
   "source": [
    "#Rare words removal\n",
    "#rare = pd.Series(' '.join(train['content']).split()).value_counts()[-10:]\n",
    "#rare"
   ]
  },
  {
   "cell_type": "code",
   "execution_count": null,
   "metadata": {
    "collapsed": true
   },
   "outputs": [],
   "source": [
    "#rare = list(rare.index)\n",
    "#train['content'] = train['content'].apply(lambda x: \" \".join(x for x in x.split() if x not in rare))\n",
    "#train['content'].head()"
   ]
  },
  {
   "cell_type": "code",
   "execution_count": null,
   "metadata": {
    "collapsed": true
   },
   "outputs": [],
   "source": [
    "#Tokenization - dividing the text into a sequence of words or sentences\n",
    "#we have used the textblob library to first transform our data into a blob and then converted them into a series of words\n",
    "tokenized_words=[]\n",
    "#for i,x in enumerate(train['content']):\n",
    "    #if(len(x) > 1 ):\n",
    "       #tokenized_words = TextBlob(x).words"
   ]
  },
  {
   "cell_type": "code",
   "execution_count": null,
   "metadata": {
    "collapsed": true
   },
   "outputs": [],
   "source": [
    "#Stemming -  removal of suffices, like “ing”, “ly”, “s”\n",
    "#st = PorterStemmer()\n",
    "#train['content'].apply(lambda x: \" \".join([st.stem(word) for word in x.split()]))"
   ]
  },
  {
   "cell_type": "code",
   "execution_count": null,
   "metadata": {
    "collapsed": true
   },
   "outputs": [],
   "source": [
    "#Lemmatization - it converts the word into its root word\n",
    "#train['content'] = train['content'].apply(lambda x: \" \".join([Word(word).lemmatize() for word in x.split()]))\n",
    "#train['content'].head()"
   ]
  },
  {
   "cell_type": "markdown",
   "metadata": {},
   "source": [
    "### 3. Advance Text Processing\n",
    " "
   ]
  },
  {
   "cell_type": "code",
   "execution_count": null,
   "metadata": {
    "collapsed": true
   },
   "outputs": [],
   "source": [
    "#N-grams - combination of multiple words used together.\n",
    "#j=[]\n",
    "#for i,x in enumerate(train['content']):\n",
    "    #j = TextBlob(x).ngrams(2)\n",
    "\n",
    "\n"
   ]
  },
  {
   "cell_type": "code",
   "execution_count": null,
   "metadata": {
    "collapsed": true
   },
   "outputs": [],
   "source": [
    "# Term frequency - ratio of the count of a word present in a sentence, to the length of the sentence\n",
    "#tf1 = (train['content']).apply(lambda x: pd.value_counts(x.split(\" \"))).sum(axis = 0).reset_index()\n",
    "#tf1.columns = ['words','tf']\n",
    "#tf1"
   ]
  },
  {
   "cell_type": "code",
   "execution_count": null,
   "metadata": {
    "collapsed": true
   },
   "outputs": [],
   "source": [
    "#Inverse Document Frequency - log of the ratio of the total number of rows to the number of rows in which that word is present\n",
    "#import numpy as np\n",
    "#for i,word in enumerate(tf1['words']):\n",
    "  #tf1.loc[i, 'idf'] = np.log(train.shape[0]/(len(train[train['content'].str.contains(word)])))\n",
    "\n",
    "#tf1"
   ]
  },
  {
   "cell_type": "code",
   "execution_count": null,
   "metadata": {
    "collapsed": true
   },
   "outputs": [],
   "source": [
    "#Term Frequency – Inverse Document Frequency (TF-IDF) - multiplication of the TF and IDF \n",
    "#tf1['tfidf'] = tf1['tf'] * tf1['idf']\n",
    "#tf1\n"
   ]
  },
  {
   "cell_type": "code",
   "execution_count": null,
   "metadata": {
    "collapsed": true
   },
   "outputs": [],
   "source": [
    "#tfidf = TfidfVectorizer(max_features=1000, lowercase=True, analyzer='word',\n",
    "#stop_words= 'english',ngram_range=(1,1))\n",
    "#train_vect = tfidf.fit_transform(train['content'])\n",
    "\n",
    "#train_vect\n"
   ]
  },
  {
   "cell_type": "code",
   "execution_count": null,
   "metadata": {
    "collapsed": true
   },
   "outputs": [],
   "source": [
    "#Bag of Words - representation of text which describes the presence of words within the text data\n",
    "#bow = CountVectorizer(max_features=1000, lowercase=True, ngram_range=(1,1),analyzer = \"word\")\n",
    "#train_bow = bow.fit_transform(train['content'])\n",
    "#train_bow\n"
   ]
  },
  {
   "cell_type": "code",
   "execution_count": null,
   "metadata": {
    "collapsed": true
   },
   "outputs": [],
   "source": [
    "# Word Embeddings\n",
    "#glove_input_file = 'glove.6B.100d.txt'\n",
    "#word2vec_output_file = 'glove.6B.100d.txt.word2vec'\n",
    "# convert it into the word2vec format\n",
    "#glove2word2vec(glove_input_file, word2vec_output_file)"
   ]
  },
  {
   "cell_type": "code",
   "execution_count": null,
   "metadata": {
    "collapsed": true
   },
   "outputs": [],
   "source": [
    "#load the above word2vec file as a model\n",
    "#filename = 'glove.6B.100d.txt.word2vec'\n",
    "#model = KeyedVectors.load_word2vec_format(filename, binary=False)"
   ]
  },
  {
   "cell_type": "code",
   "execution_count": null,
   "metadata": {
    "collapsed": true
   },
   "outputs": [],
   "source": [
    "# take the average to represent the string ‘go away’ in the form of vectors having 100 dimensions\n",
    "#(model['music'] + model['family'])/2"
   ]
  },
  {
   "cell_type": "code",
   "execution_count": null,
   "metadata": {
    "collapsed": true
   },
   "outputs": [],
   "source": []
  },
  {
   "cell_type": "code",
   "execution_count": null,
   "metadata": {
    "collapsed": true
   },
   "outputs": [],
   "source": []
  },
  {
   "cell_type": "code",
   "execution_count": null,
   "metadata": {
    "collapsed": true
   },
   "outputs": [],
   "source": []
  }
 ],
 "metadata": {
  "kernelspec": {
   "display_name": "Python 3",
   "language": "python",
   "name": "python3"
  },
  "language_info": {
   "codemirror_mode": {
    "name": "ipython",
    "version": 3
   },
   "file_extension": ".py",
   "mimetype": "text/x-python",
   "name": "python",
   "nbconvert_exporter": "python",
   "pygments_lexer": "ipython3",
   "version": "3.6.3"
  }
 },
 "nbformat": 4,
 "nbformat_minor": 2
}
