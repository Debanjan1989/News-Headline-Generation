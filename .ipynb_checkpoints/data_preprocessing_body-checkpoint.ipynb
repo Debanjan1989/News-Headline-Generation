{
 "cells": [
  {
   "cell_type": "code",
   "execution_count": 2,
   "metadata": {},
   "outputs": [
    {
     "name": "stderr",
     "output_type": "stream",
     "text": [
      "C:\\Users\\Naini\\Anaconda3\\lib\\site-packages\\gensim\\utils.py:1197: UserWarning: detected Windows; aliasing chunkize to chunkize_serial\n",
      "  warnings.warn(\"detected Windows; aliasing chunkize to chunkize_serial\")\n"
     ]
    }
   ],
   "source": [
    "import csv\n",
    "import os\n",
    "from collections import defaultdict\n",
    "import pandas as pd\n",
    "from nltk.corpus import stopwords\n",
    "from textblob import TextBlob, Word\n",
    "from gensim.scripts.glove2word2vec import glove2word2vec\n",
    "from nltk.stem import PorterStemmer\n",
    "from sklearn.feature_extraction.text import TfidfVectorizer\n",
    "from sklearn.feature_extraction.text import CountVectorizer\n",
    "from gensim.models import KeyedVectors # load the Stanford GloVe model\n",
    "#nltk.download()"
   ]
  },
  {
   "cell_type": "code",
   "execution_count": 3,
   "metadata": {
    "collapsed": true
   },
   "outputs": [],
   "source": [
    "os.getcwd()\n",
    "os.chdir(\"C:\\\\Users\\\\Naini\\\\final-project\\\\News-Headline-Generation\\\\data\")"
   ]
  },
  {
   "cell_type": "markdown",
   "metadata": {},
   "source": [
    "### 1. Basic Feature Extraction"
   ]
  },
  {
   "cell_type": "code",
   "execution_count": 4,
   "metadata": {},
   "outputs": [],
   "source": [
    "#reading csv\n",
    "train = pd.read_csv('output.csv', encoding='ISO-8859-1',low_memory=False)"
   ]
  },
  {
   "cell_type": "code",
   "execution_count": 5,
   "metadata": {},
   "outputs": [],
   "source": [
    "train = train[train['content'].notnull()]"
   ]
  },
  {
   "cell_type": "code",
   "execution_count": 6,
   "metadata": {},
   "outputs": [
    {
     "data": {
      "text/html": [
       "<div>\n",
       "<style scoped>\n",
       "    .dataframe tbody tr th:only-of-type {\n",
       "        vertical-align: middle;\n",
       "    }\n",
       "\n",
       "    .dataframe tbody tr th {\n",
       "        vertical-align: top;\n",
       "    }\n",
       "\n",
       "    .dataframe thead th {\n",
       "        text-align: right;\n",
       "    }\n",
       "</style>\n",
       "<table border=\"1\" class=\"dataframe\">\n",
       "  <thead>\n",
       "    <tr style=\"text-align: right;\">\n",
       "      <th></th>\n",
       "      <th>title</th>\n",
       "      <th>content</th>\n",
       "    </tr>\n",
       "  </thead>\n",
       "  <tbody>\n",
       "    <tr>\n",
       "      <th>0</th>\n",
       "      <td>House Republicans Fret About Winning Their Hea...</td>\n",
       "      <td>WASHINGTON  Ã¢ÂÂ   Congressional Republicans...</td>\n",
       "    </tr>\n",
       "    <tr>\n",
       "      <th>1</th>\n",
       "      <td>Rift Between Officers and Residents as Killing...</td>\n",
       "      <td>After the bullet shells get counted, the blood...</td>\n",
       "    </tr>\n",
       "    <tr>\n",
       "      <th>2</th>\n",
       "      <td>Tyrus Wong, Ã¢ÂÂBambiÃ¢ÂÂ Artist Thwarted ...</td>\n",
       "      <td>When Walt DisneyÃ¢ÂÂs Ã¢ÂÂBambiÃ¢ÂÂ open...</td>\n",
       "    </tr>\n",
       "    <tr>\n",
       "      <th>3</th>\n",
       "      <td>Among Deaths in 2016, a Heavy Toll in Pop Musi...</td>\n",
       "      <td>Death may be the great equalizer, but it isnÃ¢...</td>\n",
       "    </tr>\n",
       "    <tr>\n",
       "      <th>4</th>\n",
       "      <td>Kim Jong-un Says North Korea Is Preparing to T...</td>\n",
       "      <td>SEOUL, South Korea  Ã¢ÂÂ   North KoreaÃ¢ÂÂ...</td>\n",
       "    </tr>\n",
       "    <tr>\n",
       "      <th>5</th>\n",
       "      <td>Sick With a Cold, Queen Elizabeth Misses New Y...</td>\n",
       "      <td>LONDON  Ã¢ÂÂ   Queen Elizabeth II, who has b...</td>\n",
       "    </tr>\n",
       "    <tr>\n",
       "      <th>6</th>\n",
       "      <td>TaiwanÃ¢ÂÂs President Accuses China of Renew...</td>\n",
       "      <td>BEIJING  Ã¢ÂÂ   President Tsai   of Taiwan s...</td>\n",
       "    </tr>\n",
       "    <tr>\n",
       "      <th>7</th>\n",
       "      <td>After Ã¢ÂÂThe Biggest Loser,Ã¢ÂÂ Their Bod...</td>\n",
       "      <td>Danny Cahill stood, slightly dazed, in a blizz...</td>\n",
       "    </tr>\n",
       "    <tr>\n",
       "      <th>8</th>\n",
       "      <td>First, a Mixtape. Then a Romance. - The New Yo...</td>\n",
       "      <td>Just how   is Hillary Kerr, the    founder of ...</td>\n",
       "    </tr>\n",
       "    <tr>\n",
       "      <th>9</th>\n",
       "      <td>Calling on Angels While Enduring the Trials of...</td>\n",
       "      <td>Angels are everywhere in the MuÃÂ±iz familyÃ¢...</td>\n",
       "    </tr>\n",
       "    <tr>\n",
       "      <th>10</th>\n",
       "      <td>Weak Federal Powers Could Limit TrumpÃ¢ÂÂs C...</td>\n",
       "      <td>With Donald J. Trump about to take control of ...</td>\n",
       "    </tr>\n",
       "    <tr>\n",
       "      <th>11</th>\n",
       "      <td>Can Carbon Capture Technology Prosper Under Tr...</td>\n",
       "      <td>THOMPSONS, Tex.  Ã¢ÂÂ   Can one of the most ...</td>\n",
       "    </tr>\n",
       "    <tr>\n",
       "      <th>12</th>\n",
       "      <td>Mar-a-Lago, the Future Winter White House and ...</td>\n",
       "      <td>WEST PALM BEACH, Fla.  Ã¢ÂÂ   When   Donald ...</td>\n",
       "    </tr>\n",
       "    <tr>\n",
       "      <th>13</th>\n",
       "      <td>How to form healthy habits in your 20s - The N...</td>\n",
       "      <td>This article is part of a series aimed at help...</td>\n",
       "    </tr>\n",
       "    <tr>\n",
       "      <th>14</th>\n",
       "      <td>Turning Your Vacation Photos Into Works of Art...</td>\n",
       "      <td>ItÃ¢ÂÂs the season for family travel and pho...</td>\n",
       "    </tr>\n",
       "    <tr>\n",
       "      <th>15</th>\n",
       "      <td>As Second Avenue Subway Opens, a Train Delay E...</td>\n",
       "      <td>Finally. The Second Avenue subway opened in Ne...</td>\n",
       "    </tr>\n",
       "    <tr>\n",
       "      <th>16</th>\n",
       "      <td>Dylann Roof Himself Rejects Best Defense Again...</td>\n",
       "      <td>pages into the   journal found in Dylann S. ...</td>\n",
       "    </tr>\n",
       "    <tr>\n",
       "      <th>17</th>\n",
       "      <td>ModiÃ¢ÂÂs Cash Ban Brings Pain, but Corrupti...</td>\n",
       "      <td>MUMBAI, India  Ã¢ÂÂ   It was a bold and risk...</td>\n",
       "    </tr>\n",
       "    <tr>\n",
       "      <th>18</th>\n",
       "      <td>Suicide Bombing in Baghdad Kills at Least 36 -...</td>\n",
       "      <td>BAGHDAD  Ã¢ÂÂ   A suicide bomber detonated a...</td>\n",
       "    </tr>\n",
       "    <tr>\n",
       "      <th>19</th>\n",
       "      <td>Fecal Pollution Taints Water at MelbourneÃ¢ÂÂ...</td>\n",
       "      <td>SYDNEY, Australia  Ã¢ÂÂ   The annual beach p...</td>\n",
       "    </tr>\n",
       "    <tr>\n",
       "      <th>20</th>\n",
       "      <td>N.F.L. Playoffs: Schedule, Matchups and Odds -...</td>\n",
       "      <td>When the Green Bay Packers lost to the Washing...</td>\n",
       "    </tr>\n",
       "    <tr>\n",
       "      <th>21</th>\n",
       "      <td>Mariah CareyÃ¢ÂÂs Manager Blames Producers f...</td>\n",
       "      <td>Mariah Carey suffered through a performance tr...</td>\n",
       "    </tr>\n",
       "    <tr>\n",
       "      <th>22</th>\n",
       "      <td>Damaged by War, SyriaÃ¢ÂÂs Cultural Sites Ri...</td>\n",
       "      <td>PARIS  Ã¢ÂÂ   When the Islamic State was abo...</td>\n",
       "    </tr>\n",
       "    <tr>\n",
       "      <th>23</th>\n",
       "      <td>George MichaelÃ¢ÂÂs Freedom Video: An Oral H...</td>\n",
       "      <td>Pop music and fashion never met cuter than in ...</td>\n",
       "    </tr>\n",
       "    <tr>\n",
       "      <th>24</th>\n",
       "      <td>With New Congress Poised to Convene, ObamaÃ¢Â...</td>\n",
       "      <td>WASHINGTON  Ã¢ÂÂ   The most powerful and amb...</td>\n",
       "    </tr>\n",
       "    <tr>\n",
       "      <th>25</th>\n",
       "      <td>Republicans Stonewalled Obama. Now the Ball Is...</td>\n",
       "      <td>WASHINGTON  Ã¢ÂÂ   ItÃ¢ÂÂs   or   time for...</td>\n",
       "    </tr>\n",
       "    <tr>\n",
       "      <th>26</th>\n",
       "      <td>Istanbul, Donald Trump, Benjamin Netanyahu: Yo...</td>\n",
       "      <td>Good morning.  HereÃ¢ÂÂs what you need to kn...</td>\n",
       "    </tr>\n",
       "    <tr>\n",
       "      <th>27</th>\n",
       "      <td>Inside Trump Defense Secretary PickÃ¢ÂÂs Eff...</td>\n",
       "      <td>The body of the Iraqi prisoner was found naked...</td>\n",
       "    </tr>\n",
       "    <tr>\n",
       "      <th>28</th>\n",
       "      <td>ISIS Claims Responsibility for Istanbul Nightc...</td>\n",
       "      <td>ISTANBUL  Ã¢ÂÂ   The Islamic State on Monday...</td>\n",
       "    </tr>\n",
       "    <tr>\n",
       "      <th>29</th>\n",
       "      <td>The Afghan War and the Evolution of Obama - Th...</td>\n",
       "      <td>WASHINGTON  Ã¢ÂÂ   President ObamaÃ¢ÂÂs ad...</td>\n",
       "    </tr>\n",
       "    <tr>\n",
       "      <th>...</th>\n",
       "      <td>...</td>\n",
       "      <td>...</td>\n",
       "    </tr>\n",
       "    <tr>\n",
       "      <th>50312</th>\n",
       "      <td>Michael Cohen: Ã¢ÂÂIt Is Fake News Meant to ...</td>\n",
       "      <td>Donald Trump and his lawyer on Tuesday night d...</td>\n",
       "    </tr>\n",
       "    <tr>\n",
       "      <th>50313</th>\n",
       "      <td>The Atlantic Daily: Change and Confirmation</td>\n",
       "      <td>This article is part of a feature we a...</td>\n",
       "    </tr>\n",
       "    <tr>\n",
       "      <th>50314</th>\n",
       "      <td>What CNNÃ¢ÂÂs Report on Trump and Russia Doe...</td>\n",
       "      <td>Updated on January 10 at 6:36 p. m.  Despite a...</td>\n",
       "    </tr>\n",
       "    <tr>\n",
       "      <th>50315</th>\n",
       "      <td>The Atlantic  Politics &amp; Policy Daily: Obama Out</td>\n",
       "      <td>This article is part of a feature we a...</td>\n",
       "    </tr>\n",
       "    <tr>\n",
       "      <th>50316</th>\n",
       "      <td>What the World Might Look Like in 5 Years, Acc...</td>\n",
       "      <td>Every four years, a group of U. S. intelligenc...</td>\n",
       "    </tr>\n",
       "    <tr>\n",
       "      <th>50317</th>\n",
       "      <td>The U.S. Supreme Court Puts North CarolinaÃ¢Â...</td>\n",
       "      <td>DURHAM, N. C. Ã¢ÂÂ  The Supreme Court has a ...</td>\n",
       "    </tr>\n",
       "    <tr>\n",
       "      <th>50318</th>\n",
       "      <td>Trump Meets With Vaccine Skeptic, Discusses Ã¢...</td>\n",
       "      <td>Updated on January 10, 8:55 p. m. On Tuesday, ...</td>\n",
       "    </tr>\n",
       "    <tr>\n",
       "      <th>50319</th>\n",
       "      <td>Can the Flaws in Credit Scoring Be Fixed?</td>\n",
       "      <td>That credit scoring and reporting is an opaque...</td>\n",
       "    </tr>\n",
       "    <tr>\n",
       "      <th>50320</th>\n",
       "      <td>TrumpÃ¢ÂÂs Cyber-Appeasement Policy Might En...</td>\n",
       "      <td>Since well before he was elected president, Do...</td>\n",
       "    </tr>\n",
       "    <tr>\n",
       "      <th>50321</th>\n",
       "      <td>Taboo: A Grim, Gruesome Costume Drama Starring...</td>\n",
       "      <td>Nobody excels at playing ferocious psychopaths...</td>\n",
       "    </tr>\n",
       "    <tr>\n",
       "      <th>50322</th>\n",
       "      <td>Clare Hollingworth: The Reporter Who Broke the...</td>\n",
       "      <td>Any big journalistic scoop requires a combinat...</td>\n",
       "    </tr>\n",
       "    <tr>\n",
       "      <th>50323</th>\n",
       "      <td>The Gaps in New YorkÃ¢ÂÂs Free-College Plan</td>\n",
       "      <td>New York Governor Andrew Cuomo recently announ...</td>\n",
       "    </tr>\n",
       "    <tr>\n",
       "      <th>50324</th>\n",
       "      <td>Ã¢ÂÂWe Have a ProblemÃ¢ÂÂ: John Kerry on M...</td>\n",
       "      <td>In one of his last public appearances as U. S....</td>\n",
       "    </tr>\n",
       "    <tr>\n",
       "      <th>50325</th>\n",
       "      <td>The Enduring Mystery of Pain Measurement</td>\n",
       "      <td>One night in May, my wife sat up in bed and sa...</td>\n",
       "    </tr>\n",
       "    <tr>\n",
       "      <th>50326</th>\n",
       "      <td>What Conan OÃ¢ÂÂBrien Means to Late NightÃ¢Â...</td>\n",
       "      <td>Conan OÃ¢ÂÂBrien was once the upstart of the...</td>\n",
       "    </tr>\n",
       "    <tr>\n",
       "      <th>50327</th>\n",
       "      <td>The Absurdity of Attacking Celebrities to Defe...</td>\n",
       "      <td>Fifty years ago, California Republicans electe...</td>\n",
       "    </tr>\n",
       "    <tr>\n",
       "      <th>50328</th>\n",
       "      <td>Drive-Through Redwoods Are Monuments to Violen...</td>\n",
       "      <td>This weekend, amidst a torrent of rain, one of...</td>\n",
       "    </tr>\n",
       "    <tr>\n",
       "      <th>50329</th>\n",
       "      <td>How Superstar Economics Is Killing the NFLÃ¢Â...</td>\n",
       "      <td>For years the National Football League has bee...</td>\n",
       "    </tr>\n",
       "    <tr>\n",
       "      <th>50330</th>\n",
       "      <td>The Atlantic Daily: Passing the Presidential Mic</td>\n",
       "      <td>This article is part of a feature we a...</td>\n",
       "    </tr>\n",
       "    <tr>\n",
       "      <th>50331</th>\n",
       "      <td>How Blackmail Works in Russia</td>\n",
       "      <td>In January 1999, Prosecutor General Yury Skura...</td>\n",
       "    </tr>\n",
       "    <tr>\n",
       "      <th>50332</th>\n",
       "      <td>The Atlantic  Politics &amp; Policy Daily: Back-to...</td>\n",
       "      <td>This article is part of a feature we a...</td>\n",
       "    </tr>\n",
       "    <tr>\n",
       "      <th>50333</th>\n",
       "      <td>Obama Built an Ã¢ÂÂInfrastructureÃ¢ÂÂ for ...</td>\n",
       "      <td>President ObamaÃ¢ÂÂs farewell speech was an ...</td>\n",
       "    </tr>\n",
       "    <tr>\n",
       "      <th>50334</th>\n",
       "      <td>Why TrumpÃ¢ÂÂs Conflict-of-Interest Plan Won...</td>\n",
       "      <td>Updated on January 11 at 5:56 p. m. ET,   Dona...</td>\n",
       "    </tr>\n",
       "    <tr>\n",
       "      <th>50335</th>\n",
       "      <td>The Irrationally Divided Critics of Donald Trump</td>\n",
       "      <td>A large cohort of Americans have reservations ...</td>\n",
       "    </tr>\n",
       "    <tr>\n",
       "      <th>50336</th>\n",
       "      <td>Rex Tillerson Says Climate Change Is Real, but...</td>\n",
       "      <td>As chairman and CEO of ExxonMobil, Rex Tillers...</td>\n",
       "    </tr>\n",
       "    <tr>\n",
       "      <th>50337</th>\n",
       "      <td>The Biggest Intelligence Questions Raised by t...</td>\n",
       "      <td>IÃ¢ÂÂve spent nearly 20 years looking at int...</td>\n",
       "    </tr>\n",
       "    <tr>\n",
       "      <th>50338</th>\n",
       "      <td>Trump Announces Plan That Does Little to Resol...</td>\n",
       "      <td>Donald Trump will not be taking necessary st...</td>\n",
       "    </tr>\n",
       "    <tr>\n",
       "      <th>50341</th>\n",
       "      <td>an adviser to the Trump campaign and a busine...</td>\n",
       "      <td>the United States has participated in the Ã¢Â...</td>\n",
       "    </tr>\n",
       "    <tr>\n",
       "      <th>50342</th>\n",
       "      <td>Dozens of For-Profit Colleges Could Soon Close</td>\n",
       "      <td>Dozens of   colleges could be forced to close ...</td>\n",
       "    </tr>\n",
       "    <tr>\n",
       "      <th>50343</th>\n",
       "      <td>The Milky WayÃ¢ÂÂs Stolen Stars</td>\n",
       "      <td>The force of gravity can be described using a ...</td>\n",
       "    </tr>\n",
       "  </tbody>\n",
       "</table>\n",
       "<p>50105 rows × 2 columns</p>\n",
       "</div>"
      ],
      "text/plain": [
       "                                                   title  \\\n",
       "0      House Republicans Fret About Winning Their Hea...   \n",
       "1      Rift Between Officers and Residents as Killing...   \n",
       "2      Tyrus Wong, Ã¢ÂÂBambiÃ¢ÂÂ Artist Thwarted ...   \n",
       "3      Among Deaths in 2016, a Heavy Toll in Pop Musi...   \n",
       "4      Kim Jong-un Says North Korea Is Preparing to T...   \n",
       "5      Sick With a Cold, Queen Elizabeth Misses New Y...   \n",
       "6      TaiwanÃ¢ÂÂs President Accuses China of Renew...   \n",
       "7      After Ã¢ÂÂThe Biggest Loser,Ã¢ÂÂ Their Bod...   \n",
       "8      First, a Mixtape. Then a Romance. - The New Yo...   \n",
       "9      Calling on Angels While Enduring the Trials of...   \n",
       "10     Weak Federal Powers Could Limit TrumpÃ¢ÂÂs C...   \n",
       "11     Can Carbon Capture Technology Prosper Under Tr...   \n",
       "12     Mar-a-Lago, the Future Winter White House and ...   \n",
       "13     How to form healthy habits in your 20s - The N...   \n",
       "14     Turning Your Vacation Photos Into Works of Art...   \n",
       "15     As Second Avenue Subway Opens, a Train Delay E...   \n",
       "16     Dylann Roof Himself Rejects Best Defense Again...   \n",
       "17     ModiÃ¢ÂÂs Cash Ban Brings Pain, but Corrupti...   \n",
       "18     Suicide Bombing in Baghdad Kills at Least 36 -...   \n",
       "19     Fecal Pollution Taints Water at MelbourneÃ¢ÂÂ...   \n",
       "20     N.F.L. Playoffs: Schedule, Matchups and Odds -...   \n",
       "21     Mariah CareyÃ¢ÂÂs Manager Blames Producers f...   \n",
       "22     Damaged by War, SyriaÃ¢ÂÂs Cultural Sites Ri...   \n",
       "23     George MichaelÃ¢ÂÂs Freedom Video: An Oral H...   \n",
       "24     With New Congress Poised to Convene, ObamaÃ¢Â...   \n",
       "25     Republicans Stonewalled Obama. Now the Ball Is...   \n",
       "26     Istanbul, Donald Trump, Benjamin Netanyahu: Yo...   \n",
       "27     Inside Trump Defense Secretary PickÃ¢ÂÂs Eff...   \n",
       "28     ISIS Claims Responsibility for Istanbul Nightc...   \n",
       "29     The Afghan War and the Evolution of Obama - Th...   \n",
       "...                                                  ...   \n",
       "50312  Michael Cohen: Ã¢ÂÂIt Is Fake News Meant to ...   \n",
       "50313        The Atlantic Daily: Change and Confirmation   \n",
       "50314  What CNNÃ¢ÂÂs Report on Trump and Russia Doe...   \n",
       "50315   The Atlantic  Politics & Policy Daily: Obama Out   \n",
       "50316  What the World Might Look Like in 5 Years, Acc...   \n",
       "50317  The U.S. Supreme Court Puts North CarolinaÃ¢Â...   \n",
       "50318  Trump Meets With Vaccine Skeptic, Discusses Ã¢...   \n",
       "50319          Can the Flaws in Credit Scoring Be Fixed?   \n",
       "50320  TrumpÃ¢ÂÂs Cyber-Appeasement Policy Might En...   \n",
       "50321  Taboo: A Grim, Gruesome Costume Drama Starring...   \n",
       "50322  Clare Hollingworth: The Reporter Who Broke the...   \n",
       "50323     The Gaps in New YorkÃ¢ÂÂs Free-College Plan    \n",
       "50324  Ã¢ÂÂWe Have a ProblemÃ¢ÂÂ: John Kerry on M...   \n",
       "50325           The Enduring Mystery of Pain Measurement   \n",
       "50326  What Conan OÃ¢ÂÂBrien Means to Late NightÃ¢Â...   \n",
       "50327  The Absurdity of Attacking Celebrities to Defe...   \n",
       "50328  Drive-Through Redwoods Are Monuments to Violen...   \n",
       "50329  How Superstar Economics Is Killing the NFLÃ¢Â...   \n",
       "50330   The Atlantic Daily: Passing the Presidential Mic   \n",
       "50331                      How Blackmail Works in Russia   \n",
       "50332  The Atlantic  Politics & Policy Daily: Back-to...   \n",
       "50333  Obama Built an Ã¢ÂÂInfrastructureÃ¢ÂÂ for ...   \n",
       "50334  Why TrumpÃ¢ÂÂs Conflict-of-Interest Plan Won...   \n",
       "50335   The Irrationally Divided Critics of Donald Trump   \n",
       "50336  Rex Tillerson Says Climate Change Is Real, but...   \n",
       "50337  The Biggest Intelligence Questions Raised by t...   \n",
       "50338  Trump Announces Plan That Does Little to Resol...   \n",
       "50341   an adviser to the Trump campaign and a busine...   \n",
       "50342    Dozens of For-Profit Colleges Could Soon Close    \n",
       "50343                  The Milky WayÃ¢ÂÂs Stolen Stars   \n",
       "\n",
       "                                                 content  \n",
       "0      WASHINGTON  Ã¢ÂÂ   Congressional Republicans...  \n",
       "1      After the bullet shells get counted, the blood...  \n",
       "2      When Walt DisneyÃ¢ÂÂs Ã¢ÂÂBambiÃ¢ÂÂ open...  \n",
       "3      Death may be the great equalizer, but it isnÃ¢...  \n",
       "4      SEOUL, South Korea  Ã¢ÂÂ   North KoreaÃ¢ÂÂ...  \n",
       "5      LONDON  Ã¢ÂÂ   Queen Elizabeth II, who has b...  \n",
       "6      BEIJING  Ã¢ÂÂ   President Tsai   of Taiwan s...  \n",
       "7      Danny Cahill stood, slightly dazed, in a blizz...  \n",
       "8      Just how   is Hillary Kerr, the    founder of ...  \n",
       "9      Angels are everywhere in the MuÃÂ±iz familyÃ¢...  \n",
       "10     With Donald J. Trump about to take control of ...  \n",
       "11     THOMPSONS, Tex.  Ã¢ÂÂ   Can one of the most ...  \n",
       "12     WEST PALM BEACH, Fla.  Ã¢ÂÂ   When   Donald ...  \n",
       "13     This article is part of a series aimed at help...  \n",
       "14     ItÃ¢ÂÂs the season for family travel and pho...  \n",
       "15     Finally. The Second Avenue subway opened in Ne...  \n",
       "16       pages into the   journal found in Dylann S. ...  \n",
       "17     MUMBAI, India  Ã¢ÂÂ   It was a bold and risk...  \n",
       "18     BAGHDAD  Ã¢ÂÂ   A suicide bomber detonated a...  \n",
       "19     SYDNEY, Australia  Ã¢ÂÂ   The annual beach p...  \n",
       "20     When the Green Bay Packers lost to the Washing...  \n",
       "21     Mariah Carey suffered through a performance tr...  \n",
       "22     PARIS  Ã¢ÂÂ   When the Islamic State was abo...  \n",
       "23     Pop music and fashion never met cuter than in ...  \n",
       "24     WASHINGTON  Ã¢ÂÂ   The most powerful and amb...  \n",
       "25     WASHINGTON  Ã¢ÂÂ   ItÃ¢ÂÂs   or   time for...  \n",
       "26     Good morning.  HereÃ¢ÂÂs what you need to kn...  \n",
       "27     The body of the Iraqi prisoner was found naked...  \n",
       "28     ISTANBUL  Ã¢ÂÂ   The Islamic State on Monday...  \n",
       "29     WASHINGTON  Ã¢ÂÂ   President ObamaÃ¢ÂÂs ad...  \n",
       "...                                                  ...  \n",
       "50312  Donald Trump and his lawyer on Tuesday night d...  \n",
       "50313          This article is part of a feature we a...  \n",
       "50314  Updated on January 10 at 6:36 p. m.  Despite a...  \n",
       "50315          This article is part of a feature we a...  \n",
       "50316  Every four years, a group of U. S. intelligenc...  \n",
       "50317  DURHAM, N. C. Ã¢ÂÂ  The Supreme Court has a ...  \n",
       "50318  Updated on January 10, 8:55 p. m. On Tuesday, ...  \n",
       "50319  That credit scoring and reporting is an opaque...  \n",
       "50320  Since well before he was elected president, Do...  \n",
       "50321  Nobody excels at playing ferocious psychopaths...  \n",
       "50322  Any big journalistic scoop requires a combinat...  \n",
       "50323  New York Governor Andrew Cuomo recently announ...  \n",
       "50324  In one of his last public appearances as U. S....  \n",
       "50325  One night in May, my wife sat up in bed and sa...  \n",
       "50326  Conan OÃ¢ÂÂBrien was once the upstart of the...  \n",
       "50327  Fifty years ago, California Republicans electe...  \n",
       "50328  This weekend, amidst a torrent of rain, one of...  \n",
       "50329  For years the National Football League has bee...  \n",
       "50330          This article is part of a feature we a...  \n",
       "50331  In January 1999, Prosecutor General Yury Skura...  \n",
       "50332          This article is part of a feature we a...  \n",
       "50333  President ObamaÃ¢ÂÂs farewell speech was an ...  \n",
       "50334  Updated on January 11 at 5:56 p. m. ET,   Dona...  \n",
       "50335  A large cohort of Americans have reservations ...  \n",
       "50336  As chairman and CEO of ExxonMobil, Rex Tillers...  \n",
       "50337  IÃ¢ÂÂve spent nearly 20 years looking at int...  \n",
       "50338    Donald Trump will not be taking necessary st...  \n",
       "50341   the United States has participated in the Ã¢Â...  \n",
       "50342  Dozens of   colleges could be forced to close ...  \n",
       "50343  The force of gravity can be described using a ...  \n",
       "\n",
       "[50105 rows x 2 columns]"
      ]
     },
     "execution_count": 6,
     "metadata": {},
     "output_type": "execute_result"
    }
   ],
   "source": [
    "train"
   ]
  },
  {
   "cell_type": "code",
   "execution_count": 7,
   "metadata": {
    "collapsed": true
   },
   "outputs": [],
   "source": [
    "#Number of stopwords\n",
    "stop = stopwords.words('english')"
   ]
  },
  {
   "cell_type": "code",
   "execution_count": 8,
   "metadata": {},
   "outputs": [
    {
     "data": {
      "text/html": [
       "<div>\n",
       "<style scoped>\n",
       "    .dataframe tbody tr th:only-of-type {\n",
       "        vertical-align: middle;\n",
       "    }\n",
       "\n",
       "    .dataframe tbody tr th {\n",
       "        vertical-align: top;\n",
       "    }\n",
       "\n",
       "    .dataframe thead th {\n",
       "        text-align: right;\n",
       "    }\n",
       "</style>\n",
       "<table border=\"1\" class=\"dataframe\">\n",
       "  <thead>\n",
       "    <tr style=\"text-align: right;\">\n",
       "      <th></th>\n",
       "      <th>content</th>\n",
       "      <th>stopwords</th>\n",
       "    </tr>\n",
       "  </thead>\n",
       "  <tbody>\n",
       "    <tr>\n",
       "      <th>0</th>\n",
       "      <td>WASHINGTON  Ã¢ÂÂ   Congressional Republicans...</td>\n",
       "      <td>340</td>\n",
       "    </tr>\n",
       "    <tr>\n",
       "      <th>1</th>\n",
       "      <td>After the bullet shells get counted, the blood...</td>\n",
       "      <td>1888</td>\n",
       "    </tr>\n",
       "    <tr>\n",
       "      <th>2</th>\n",
       "      <td>When Walt DisneyÃ¢ÂÂs Ã¢ÂÂBambiÃ¢ÂÂ open...</td>\n",
       "      <td>883</td>\n",
       "    </tr>\n",
       "    <tr>\n",
       "      <th>3</th>\n",
       "      <td>Death may be the great equalizer, but it isnÃ¢...</td>\n",
       "      <td>787</td>\n",
       "    </tr>\n",
       "    <tr>\n",
       "      <th>4</th>\n",
       "      <td>SEOUL, South Korea  Ã¢ÂÂ   North KoreaÃ¢ÂÂ...</td>\n",
       "      <td>236</td>\n",
       "    </tr>\n",
       "  </tbody>\n",
       "</table>\n",
       "</div>"
      ],
      "text/plain": [
       "                                             content  stopwords\n",
       "0  WASHINGTON  Ã¢ÂÂ   Congressional Republicans...        340\n",
       "1  After the bullet shells get counted, the blood...       1888\n",
       "2  When Walt DisneyÃ¢ÂÂs Ã¢ÂÂBambiÃ¢ÂÂ open...        883\n",
       "3  Death may be the great equalizer, but it isnÃ¢...        787\n",
       "4  SEOUL, South Korea  Ã¢ÂÂ   North KoreaÃ¢ÂÂ...        236"
      ]
     },
     "execution_count": 8,
     "metadata": {},
     "output_type": "execute_result"
    }
   ],
   "source": [
    "train['stopwords'] = train['content'].apply(lambda x: len([x for x in x.split() if x in stop]))\n",
    "train[['content','stopwords']].head()"
   ]
  },
  {
   "cell_type": "markdown",
   "metadata": {},
   "source": [
    "### 2. Basic Pre-processing"
   ]
  },
  {
   "cell_type": "code",
   "execution_count": 9,
   "metadata": {},
   "outputs": [
    {
     "data": {
      "text/plain": [
       "0    washington ã¢ââ congressional republicans ha...\n",
       "1    after the bullet shells get counted, the blood...\n",
       "2    when walt disneyã¢ââs ã¢ââbambiã¢ââ open...\n",
       "3    death may be the great equalizer, but it isnã¢...\n",
       "4    seoul, south korea ã¢ââ north koreaã¢ââs l...\n",
       "Name: content, dtype: object"
      ]
     },
     "execution_count": 9,
     "metadata": {},
     "output_type": "execute_result"
    }
   ],
   "source": [
    "#transform data into lower case\n",
    "train['content'] = train['content'].apply(lambda x: \" \".join(x.lower() for x in x.split()))\n",
    "train['content'].head()"
   ]
  },
  {
   "cell_type": "code",
   "execution_count": 10,
   "metadata": {},
   "outputs": [
    {
     "data": {
      "text/plain": [
       "0        washington ãââ congressional republicans have ...\n",
       "1        after the bullet shells get counted the blood ...\n",
       "2        when walt disneyãââs ãââbambiãââ opened in 194...\n",
       "3        death may be the great equalizer but it isnãââ...\n",
       "4        seoul south korea ãââ north koreaãââs leader k...\n",
       "5        london ãââ queen elizabeth ii who has been bat...\n",
       "6        beijing ãââ president tsai of taiwan sharply c...\n",
       "7        danny cahill stood slightly dazed in a blizzar...\n",
       "8        just how is hillary kerr the founder of a digi...\n",
       "9        angels are everywhere in the muãâiz familyãââs...\n",
       "10       with donald j trump about to take control of t...\n",
       "11       thompsons tex ãââ can one of the most promisin...\n",
       "12       west palm beach fla ãââ when donald j trump ra...\n",
       "13       this article is part of a series aimed at help...\n",
       "14       itãââs the season for family travel and photos...\n",
       "15       finally the second avenue subway opened in new...\n",
       "16       pages into the journal found in dylann s roofã...\n",
       "17       mumbai india ãââ it was a bold and risky gambl...\n",
       "18       baghdad ãââ a suicide bomber detonated a picku...\n",
       "19       sydney australia ãââ the annual beach pilgrima...\n",
       "20       when the green bay packers lost to the washing...\n",
       "21       mariah carey suffered through a performance tr...\n",
       "22       paris ãââ when the islamic state was about to ...\n",
       "23       pop music and fashion never met cuter than in ...\n",
       "24       washington ãââ the most powerful and ambitious...\n",
       "25       washington ãââ itãââs or time for republicans ...\n",
       "26       good morning hereãââs what you need to know ãâ...\n",
       "27       the body of the iraqi prisoner was found naked...\n",
       "28       istanbul ãââ the islamic state on monday issue...\n",
       "29       washington ãââ president obamaãââs advisers wr...\n",
       "                               ...                        \n",
       "50312    donald trump and his lawyer on tuesday night d...\n",
       "50313    this article is part of a feature we also send...\n",
       "50314    updated on january 10 at 636 p m despite all o...\n",
       "50315    this article is part of a feature we also send...\n",
       "50316    every four years a group of u s intelligence a...\n",
       "50317    durham n c ãââ the supreme court has a message...\n",
       "50318    updated on january 10 855 p m on tuesday donal...\n",
       "50319    that credit scoring and reporting is an opaque...\n",
       "50320    since well before he was elected president don...\n",
       "50321    nobody excels at playing ferocious psychopaths...\n",
       "50322    any big journalistic scoop requires a combinat...\n",
       "50323    new york governor andrew cuomo recently announ...\n",
       "50324    in one of his last public appearances as u s s...\n",
       "50325    one night in may my wife sat up in bed and sai...\n",
       "50326    conan oãââbrien was once the upstart of the co...\n",
       "50327    fifty years ago california republicans elected...\n",
       "50328    this weekend amidst a torrent of rain one of c...\n",
       "50329    for years the national football league has bee...\n",
       "50330    this article is part of a feature we also send...\n",
       "50331    in january 1999 prosecutor general yury skurat...\n",
       "50332    this article is part of a feature we also send...\n",
       "50333    president obamaãââs farewell speech was an exe...\n",
       "50334    updated on january 11 at 556 p m et donald tru...\n",
       "50335    a large cohort of americans have reservations ...\n",
       "50336    as chairman and ceo of exxonmobil rex tillerso...\n",
       "50337    iãââve spent nearly 20 years looking at intell...\n",
       "50338    donald trump will not be taking necessary step...\n",
       "50341    the united states has participated in the ãââa...\n",
       "50342    dozens of colleges could be forced to close in...\n",
       "50343    the force of gravity can be described using a ...\n",
       "Name: content, Length: 50105, dtype: object"
      ]
     },
     "execution_count": 10,
     "metadata": {},
     "output_type": "execute_result"
    }
   ],
   "source": [
    "#Removing Punctuation\n",
    "train['content'] = train['content'].str.replace('[^\\w\\s]','')\n",
    "train['content']"
   ]
  },
  {
   "cell_type": "code",
   "execution_count": 11,
   "metadata": {},
   "outputs": [
    {
     "data": {
      "text/plain": [
       "0    washington ãââ congressional republicans new f...\n",
       "1    bullet shells get counted blood dries votive c...\n",
       "2    walt disneyãââs ãââbambiãââ opened 1942 critic...\n",
       "3    death may great equalizer isnãâât necessarily ...\n",
       "4    seoul south korea ãââ north koreaãââs leader k...\n",
       "Name: content, dtype: object"
      ]
     },
     "execution_count": 11,
     "metadata": {},
     "output_type": "execute_result"
    }
   ],
   "source": [
    "#Removal of Stop Words\n",
    "train['content'] = train['content'].apply(lambda x: \" \".join(x for x in x.split() if x not in stop))\n",
    "train['content'].head()"
   ]
  },
  {
   "cell_type": "code",
   "execution_count": 12,
   "metadata": {},
   "outputs": [
    {
     "data": {
      "text/plain": [
       "ãââ          408209\n",
       "said         206231\n",
       "trump        114363\n",
       "mr            85617\n",
       "would         73516\n",
       "one           72906\n",
       "people        71186\n",
       "new           61662\n",
       "also          56970\n",
       "president     55776\n",
       "dtype: int64"
      ]
     },
     "execution_count": 12,
     "metadata": {},
     "output_type": "execute_result"
    }
   ],
   "source": [
    "#Common word removal\n",
    "freq = pd.Series(' '.join(train['content']).split()).value_counts()[:10]\n",
    "freq"
   ]
  },
  {
   "cell_type": "code",
   "execution_count": 13,
   "metadata": {},
   "outputs": [
    {
     "data": {
      "text/plain": [
       "0    washington congressional republicans fear come...\n",
       "1    bullet shells get counted blood dries votive c...\n",
       "2    walt disneyãââs ãââbambiãââ opened 1942 critic...\n",
       "3    death may great equalizer isnãâât necessarily ...\n",
       "4    seoul south korea north koreaãââs leader kim s...\n",
       "Name: content, dtype: object"
      ]
     },
     "execution_count": 13,
     "metadata": {},
     "output_type": "execute_result"
    }
   ],
   "source": [
    "freq = list(freq.index)\n",
    "train['content'] = train['content'].apply(lambda x: \" \".join(x for x in x.split() if x not in freq))\n",
    "train['content'].head()"
   ]
  },
  {
   "cell_type": "code",
   "execution_count": 14,
   "metadata": {},
   "outputs": [
    {
     "data": {
      "text/plain": [
       "boondogles            1\n",
       "turkishness           1\n",
       "hentie                1\n",
       "scamardo              1\n",
       "bruel                 1\n",
       "ãââpussyfootingãââ    1\n",
       "judit                 1\n",
       "bushrob               1\n",
       "hamoodãââs            1\n",
       "zhongãââs             1\n",
       "dtype: int64"
      ]
     },
     "execution_count": 14,
     "metadata": {},
     "output_type": "execute_result"
    }
   ],
   "source": [
    "#Rare words removal\n",
    "rare = pd.Series(' '.join(train['content']).split()).value_counts()[-10:]\n",
    "rare"
   ]
  },
  {
   "cell_type": "code",
   "execution_count": 15,
   "metadata": {},
   "outputs": [
    {
     "data": {
      "text/plain": [
       "0    washington congressional republicans fear come...\n",
       "1    bullet shells get counted blood dries votive c...\n",
       "2    walt disneyãââs ãââbambiãââ opened 1942 critic...\n",
       "3    death may great equalizer isnãâât necessarily ...\n",
       "4    seoul south korea north koreaãââs leader kim s...\n",
       "Name: content, dtype: object"
      ]
     },
     "execution_count": 15,
     "metadata": {},
     "output_type": "execute_result"
    }
   ],
   "source": [
    "rare = list(rare.index)\n",
    "train['content'] = train['content'].apply(lambda x: \" \".join(x for x in x.split() if x not in rare))\n",
    "train['content'].head()"
   ]
  },
  {
   "cell_type": "code",
   "execution_count": 16,
   "metadata": {},
   "outputs": [],
   "source": [
    "#Tokenization - dividing the text into a sequence of words or sentences\n",
    "#we have used the textblob library to first transform our data into a blob and then converted them into a series of words\n",
    "tokenized_words=[]\n",
    "for i,x in enumerate(train['content']):\n",
    "    if(len(x) > 1 ):\n",
    "       tokenized_words = TextBlob(x).words"
   ]
  },
  {
   "cell_type": "code",
   "execution_count": 17,
   "metadata": {},
   "outputs": [
    {
     "data": {
      "text/plain": [
       "0        washington congression republican fear come he...\n",
       "1        bullet shell get count blood dri votiv candl b...\n",
       "2        walt disneyãââ ãââbambiãââ open 1942 critic pr...\n",
       "3        death may great equal isnãâât necessarili even...\n",
       "4        seoul south korea north koreaãââ leader kim su...\n",
       "5        london queen elizabeth ii battl cold week miss...\n",
       "6        beij tsai taiwan sharpli critic chinaãââ leade...\n",
       "7        danni cahil stood slightli daze blizzard confe...\n",
       "8        hillari kerr founder digit media compani lo an...\n",
       "9        angel everywher muãâiz familyãââ apart bronx p...\n",
       "10       donald j take control white hous seem dark tim...\n",
       "11       thompson tex promis troubl technolog fight glo...\n",
       "12       west palm beach fla donald j rang year weekend...\n",
       "13       articl part seri aim help navig lifeãââ opport...\n",
       "14       itãââ season famili travel photo perhap enlarg...\n",
       "15       final second avenu subway open york citi sunda...\n",
       "16       page journal found dylann roofãââ car assert b...\n",
       "17       mumbai india bold riski gambl prime minist nar...\n",
       "18       baghdad suicid bomber deton pickup truck load ...\n",
       "19       sydney australia annual beach pilgrimag height...\n",
       "20       green bay packer lost washington redskin week ...\n",
       "21       mariah carey suffer perform train wreck time s...\n",
       "22       pari islam state driven ancient citi palmyra m...\n",
       "23       pop music fashion never met cuter georg michae...\n",
       "24       washington power ambiti congress 20 year conve...\n",
       "25       washington itãââ time republican tumultu decad...\n",
       "26       good morn hereãââ need know turkish author hun...\n",
       "27       bodi iraqi prison found nake badli bruis 2003 ...\n",
       "28       istanbul islam state monday issu rare claim re...\n",
       "29       washington obamaãââ advis wrestl intract probl...\n",
       "                               ...                        \n",
       "50312    donald lawyer tuesday night deni alleg explos ...\n",
       "50313    articl part featur send via email atlant daili...\n",
       "50314    updat januari 10 636 p despit donald trumpãââ ...\n",
       "50315    articl part featur send via email polit polici...\n",
       "50316    everi four year group u intellig analyst tri p...\n",
       "50317    durham n c suprem court messag north carolina ...\n",
       "50318    updat januari 10 855 p tuesday donald met robe...\n",
       "50319    credit score report opaqu flaw system isnãâât ...\n",
       "50320    sinc well elect donald cast doubt accuraci int...\n",
       "50321    nobodi excel play feroci psychopath sensit sid...\n",
       "50322    big journalist scoop requir combin luck hustl ...\n",
       "50323    york governor andrew cuomo recent announc plan...\n",
       "50324    last public appear u secretari state john kerr...\n",
       "50325    night may wife sat bed ãââiãââv got aw pain pr...\n",
       "50326    conan oãââbrien upstart comedi world pretend t...\n",
       "50327    fifti year ago california republican elect act...\n",
       "50328    weekend amidst torrent rain californiaãââ icon...\n",
       "50329    year nation footbal leagu uncontest king media...\n",
       "50330    articl part featur send via email atlant daili...\n",
       "50331    januari 1999 prosecutor gener yuri skuratov su...\n",
       "50332    articl part featur send via email polit polici...\n",
       "50333    obamaãââ farewel speech exercis mark norm offe...\n",
       "50334    updat januari 11 556 p et donald announc press...\n",
       "50335    larg cohort american reserv presid donald lost...\n",
       "50336    chairman ceo exxonmobil rex tillerson admit cl...\n",
       "50337    iãââv spent nearli 20 year look intellig chall...\n",
       "50338    donald take necessari step resolv conflict int...\n",
       "50341    unit state particip ãââart diplomat fictionãââ...\n",
       "50342    dozen colleg could forc close next sever year ...\n",
       "50343    forc graviti describ use number metaphor itãââ...\n",
       "Name: content, Length: 50105, dtype: object"
      ]
     },
     "execution_count": 17,
     "metadata": {},
     "output_type": "execute_result"
    }
   ],
   "source": [
    "#Stemming -  removal of suffices, like “ing”, “ly”, “s”\n",
    "st = PorterStemmer()\n",
    "train['content'].apply(lambda x: \" \".join([st.stem(word) for word in x.split()]))"
   ]
  },
  {
   "cell_type": "code",
   "execution_count": 18,
   "metadata": {},
   "outputs": [
    {
     "data": {
      "text/plain": [
       "0    washington congressional republican fear come ...\n",
       "1    bullet shell get counted blood dry votive cand...\n",
       "2    walt disneyãââs ãââbambiãââ opened 1942 critic...\n",
       "3    death may great equalizer isnãâât necessarily ...\n",
       "4    seoul south korea north koreaãââs leader kim s...\n",
       "Name: content, dtype: object"
      ]
     },
     "execution_count": 18,
     "metadata": {},
     "output_type": "execute_result"
    }
   ],
   "source": [
    "#Lemmatization - it converts the word into its root word\n",
    "train['content'] = train['content'].apply(lambda x: \" \".join([Word(word).lemmatize() for word in x.split()]))\n",
    "train['content'].head()"
   ]
  },
  {
   "cell_type": "markdown",
   "metadata": {},
   "source": [
    "### 3. Advance Text Processing\n",
    " "
   ]
  },
  {
   "cell_type": "code",
   "execution_count": 20,
   "metadata": {},
   "outputs": [
    {
     "ename": "KeyboardInterrupt",
     "evalue": "",
     "output_type": "error",
     "traceback": [
      "\u001b[1;31m---------------------------------------------------------------------------\u001b[0m",
      "\u001b[1;31mKeyboardInterrupt\u001b[0m                         Traceback (most recent call last)",
      "\u001b[1;32m<ipython-input-20-4cf4be6bada1>\u001b[0m in \u001b[0;36m<module>\u001b[1;34m()\u001b[0m\n\u001b[0;32m      1\u001b[0m \u001b[1;31m#N-grams - combination of multiple words used together.\u001b[0m\u001b[1;33m\u001b[0m\u001b[1;33m\u001b[0m\u001b[0m\n\u001b[0;32m      2\u001b[0m \u001b[1;32mfor\u001b[0m \u001b[0mi\u001b[0m\u001b[1;33m,\u001b[0m\u001b[0mx\u001b[0m \u001b[1;32min\u001b[0m \u001b[0menumerate\u001b[0m\u001b[1;33m(\u001b[0m\u001b[0mtrain\u001b[0m\u001b[1;33m[\u001b[0m\u001b[1;34m'content'\u001b[0m\u001b[1;33m]\u001b[0m\u001b[1;33m)\u001b[0m\u001b[1;33m:\u001b[0m\u001b[1;33m\u001b[0m\u001b[0m\n\u001b[1;32m----> 3\u001b[1;33m     \u001b[0mTextBlob\u001b[0m\u001b[1;33m(\u001b[0m\u001b[0mx\u001b[0m\u001b[1;33m)\u001b[0m\u001b[1;33m.\u001b[0m\u001b[0mngrams\u001b[0m\u001b[1;33m(\u001b[0m\u001b[1;36m2\u001b[0m\u001b[1;33m)\u001b[0m\u001b[1;33m\u001b[0m\u001b[0m\n\u001b[0m\u001b[0;32m      4\u001b[0m \u001b[1;33m\u001b[0m\u001b[0m\n\u001b[0;32m      5\u001b[0m \u001b[1;33m\u001b[0m\u001b[0m\n",
      "\u001b[1;32m~\\Anaconda3\\lib\\site-packages\\textblob\\blob.py\u001b[0m in \u001b[0;36mngrams\u001b[1;34m(self, n)\u001b[0m\n\u001b[0;32m    512\u001b[0m             \u001b[1;32mreturn\u001b[0m \u001b[1;33m[\u001b[0m\u001b[1;33m]\u001b[0m\u001b[1;33m\u001b[0m\u001b[0m\n\u001b[0;32m    513\u001b[0m         grams = [WordList(self.words[i:i + n])\n\u001b[1;32m--> 514\u001b[1;33m                             for i in range(len(self.words) - n + 1)]\n\u001b[0m\u001b[0;32m    515\u001b[0m         \u001b[1;32mreturn\u001b[0m \u001b[0mgrams\u001b[0m\u001b[1;33m\u001b[0m\u001b[0m\n\u001b[0;32m    516\u001b[0m \u001b[1;33m\u001b[0m\u001b[0m\n",
      "\u001b[1;32m~\\Anaconda3\\lib\\site-packages\\textblob\\decorators.py\u001b[0m in \u001b[0;36m__get__\u001b[1;34m(self, obj, cls)\u001b[0m\n\u001b[0;32m     22\u001b[0m         \u001b[1;32mif\u001b[0m \u001b[0mobj\u001b[0m \u001b[1;32mis\u001b[0m \u001b[1;32mNone\u001b[0m\u001b[1;33m:\u001b[0m\u001b[1;33m\u001b[0m\u001b[0m\n\u001b[0;32m     23\u001b[0m             \u001b[1;32mreturn\u001b[0m \u001b[0mself\u001b[0m\u001b[1;33m\u001b[0m\u001b[0m\n\u001b[1;32m---> 24\u001b[1;33m         \u001b[0mvalue\u001b[0m \u001b[1;33m=\u001b[0m \u001b[0mobj\u001b[0m\u001b[1;33m.\u001b[0m\u001b[0m__dict__\u001b[0m\u001b[1;33m[\u001b[0m\u001b[0mself\u001b[0m\u001b[1;33m.\u001b[0m\u001b[0mfunc\u001b[0m\u001b[1;33m.\u001b[0m\u001b[0m__name__\u001b[0m\u001b[1;33m]\u001b[0m \u001b[1;33m=\u001b[0m \u001b[0mself\u001b[0m\u001b[1;33m.\u001b[0m\u001b[0mfunc\u001b[0m\u001b[1;33m(\u001b[0m\u001b[0mobj\u001b[0m\u001b[1;33m)\u001b[0m\u001b[1;33m\u001b[0m\u001b[0m\n\u001b[0m\u001b[0;32m     25\u001b[0m         \u001b[1;32mreturn\u001b[0m \u001b[0mvalue\u001b[0m\u001b[1;33m\u001b[0m\u001b[0m\n\u001b[0;32m     26\u001b[0m \u001b[1;33m\u001b[0m\u001b[0m\n",
      "\u001b[1;32m~\\Anaconda3\\lib\\site-packages\\textblob\\blob.py\u001b[0m in \u001b[0;36mwords\u001b[1;34m(self)\u001b[0m\n\u001b[0;32m    641\u001b[0m         \u001b[1;33m:\u001b[0m\u001b[0mreturns\u001b[0m\u001b[1;33m:\u001b[0m \u001b[0mA\u001b[0m \u001b[1;33m:\u001b[0m\u001b[1;32mclass\u001b[0m\u001b[1;33m:\u001b[0m\u001b[0;31m`\u001b[0m\u001b[0mWordList\u001b[0m \u001b[1;33m<\u001b[0m\u001b[0mWordList\u001b[0m\u001b[1;33m>\u001b[0m\u001b[0;31m`\u001b[0m \u001b[0mof\u001b[0m \u001b[0mword\u001b[0m \u001b[0mtokens\u001b[0m\u001b[1;33m.\u001b[0m\u001b[1;33m\u001b[0m\u001b[0m\n\u001b[0;32m    642\u001b[0m         \"\"\"\n\u001b[1;32m--> 643\u001b[1;33m         \u001b[1;32mreturn\u001b[0m \u001b[0mWordList\u001b[0m\u001b[1;33m(\u001b[0m\u001b[0mword_tokenize\u001b[0m\u001b[1;33m(\u001b[0m\u001b[0mself\u001b[0m\u001b[1;33m.\u001b[0m\u001b[0mraw\u001b[0m\u001b[1;33m,\u001b[0m \u001b[0minclude_punc\u001b[0m\u001b[1;33m=\u001b[0m\u001b[1;32mFalse\u001b[0m\u001b[1;33m)\u001b[0m\u001b[1;33m)\u001b[0m\u001b[1;33m\u001b[0m\u001b[0m\n\u001b[0m\u001b[0;32m    644\u001b[0m \u001b[1;33m\u001b[0m\u001b[0m\n\u001b[0;32m    645\u001b[0m     \u001b[1;33m@\u001b[0m\u001b[0mproperty\u001b[0m\u001b[1;33m\u001b[0m\u001b[0m\n",
      "\u001b[1;32m~\\Anaconda3\\lib\\site-packages\\textblob\\tokenizers.py\u001b[0m in \u001b[0;36mword_tokenize\u001b[1;34m(text, include_punc, *args, **kwargs)\u001b[0m\n\u001b[0;32m     71\u001b[0m         _word_tokenizer.itokenize(sentence, include_punc=include_punc,\n\u001b[0;32m     72\u001b[0m                                 *args, **kwargs)\n\u001b[1;32m---> 73\u001b[1;33m         for sentence in sent_tokenize(text))\n\u001b[0m\u001b[0;32m     74\u001b[0m     \u001b[1;32mreturn\u001b[0m \u001b[0mwords\u001b[0m\u001b[1;33m\u001b[0m\u001b[0m\n",
      "\u001b[1;32m~\\Anaconda3\\lib\\site-packages\\textblob\\base.py\u001b[0m in \u001b[0;36mitokenize\u001b[1;34m(self, text, *args, **kwargs)\u001b[0m\n\u001b[0;32m     62\u001b[0m         \u001b[1;33m:\u001b[0m\u001b[0mrtype\u001b[0m\u001b[1;33m:\u001b[0m \u001b[0mgenerator\u001b[0m\u001b[1;33m\u001b[0m\u001b[0m\n\u001b[0;32m     63\u001b[0m         \"\"\"\n\u001b[1;32m---> 64\u001b[1;33m         \u001b[1;32mreturn\u001b[0m \u001b[1;33m(\u001b[0m\u001b[0mt\u001b[0m \u001b[1;32mfor\u001b[0m \u001b[0mt\u001b[0m \u001b[1;32min\u001b[0m \u001b[0mself\u001b[0m\u001b[1;33m.\u001b[0m\u001b[0mtokenize\u001b[0m\u001b[1;33m(\u001b[0m\u001b[0mtext\u001b[0m\u001b[1;33m,\u001b[0m \u001b[1;33m*\u001b[0m\u001b[0margs\u001b[0m\u001b[1;33m,\u001b[0m \u001b[1;33m**\u001b[0m\u001b[0mkwargs\u001b[0m\u001b[1;33m)\u001b[0m\u001b[1;33m)\u001b[0m\u001b[1;33m\u001b[0m\u001b[0m\n\u001b[0m\u001b[0;32m     65\u001b[0m \u001b[1;33m\u001b[0m\u001b[0m\n\u001b[0;32m     66\u001b[0m \u001b[1;31m##### SENTIMENT ANALYZERS ####\u001b[0m\u001b[1;33m\u001b[0m\u001b[1;33m\u001b[0m\u001b[0m\n",
      "\u001b[1;32m~\\Anaconda3\\lib\\site-packages\\textblob\\decorators.py\u001b[0m in \u001b[0;36mdecorated\u001b[1;34m(*args, **kwargs)\u001b[0m\n\u001b[0;32m     33\u001b[0m     \u001b[1;32mdef\u001b[0m \u001b[0mdecorated\u001b[0m\u001b[1;33m(\u001b[0m\u001b[1;33m*\u001b[0m\u001b[0margs\u001b[0m\u001b[1;33m,\u001b[0m \u001b[1;33m**\u001b[0m\u001b[0mkwargs\u001b[0m\u001b[1;33m)\u001b[0m\u001b[1;33m:\u001b[0m\u001b[1;33m\u001b[0m\u001b[0m\n\u001b[0;32m     34\u001b[0m         \u001b[1;32mtry\u001b[0m\u001b[1;33m:\u001b[0m\u001b[1;33m\u001b[0m\u001b[0m\n\u001b[1;32m---> 35\u001b[1;33m             \u001b[1;32mreturn\u001b[0m \u001b[0mfunc\u001b[0m\u001b[1;33m(\u001b[0m\u001b[1;33m*\u001b[0m\u001b[0margs\u001b[0m\u001b[1;33m,\u001b[0m \u001b[1;33m**\u001b[0m\u001b[0mkwargs\u001b[0m\u001b[1;33m)\u001b[0m\u001b[1;33m\u001b[0m\u001b[0m\n\u001b[0m\u001b[0;32m     36\u001b[0m         \u001b[1;32mexcept\u001b[0m \u001b[0mLookupError\u001b[0m \u001b[1;32mas\u001b[0m \u001b[0merr\u001b[0m\u001b[1;33m:\u001b[0m\u001b[1;33m\u001b[0m\u001b[0m\n\u001b[0;32m     37\u001b[0m             \u001b[0mprint\u001b[0m\u001b[1;33m(\u001b[0m\u001b[0merr\u001b[0m\u001b[1;33m)\u001b[0m\u001b[1;33m\u001b[0m\u001b[0m\n",
      "\u001b[1;32m~\\Anaconda3\\lib\\site-packages\\textblob\\tokenizers.py\u001b[0m in \u001b[0;36mtokenize\u001b[1;34m(self, text)\u001b[0m\n\u001b[0;32m     55\u001b[0m     \u001b[1;32mdef\u001b[0m \u001b[0mtokenize\u001b[0m\u001b[1;33m(\u001b[0m\u001b[0mself\u001b[0m\u001b[1;33m,\u001b[0m \u001b[0mtext\u001b[0m\u001b[1;33m)\u001b[0m\u001b[1;33m:\u001b[0m\u001b[1;33m\u001b[0m\u001b[0m\n\u001b[0;32m     56\u001b[0m         \u001b[1;34m'''Return a list of sentences.'''\u001b[0m\u001b[1;33m\u001b[0m\u001b[0m\n\u001b[1;32m---> 57\u001b[1;33m         \u001b[1;32mreturn\u001b[0m \u001b[0mnltk\u001b[0m\u001b[1;33m.\u001b[0m\u001b[0mtokenize\u001b[0m\u001b[1;33m.\u001b[0m\u001b[0msent_tokenize\u001b[0m\u001b[1;33m(\u001b[0m\u001b[0mtext\u001b[0m\u001b[1;33m)\u001b[0m\u001b[1;33m\u001b[0m\u001b[0m\n\u001b[0m\u001b[0;32m     58\u001b[0m \u001b[1;33m\u001b[0m\u001b[0m\n\u001b[0;32m     59\u001b[0m \u001b[1;33m\u001b[0m\u001b[0m\n",
      "\u001b[1;32m~\\Anaconda3\\lib\\site-packages\\nltk\\tokenize\\__init__.py\u001b[0m in \u001b[0;36msent_tokenize\u001b[1;34m(text, language)\u001b[0m\n\u001b[0;32m     95\u001b[0m     \"\"\"\n\u001b[0;32m     96\u001b[0m     \u001b[0mtokenizer\u001b[0m \u001b[1;33m=\u001b[0m \u001b[0mload\u001b[0m\u001b[1;33m(\u001b[0m\u001b[1;34m'tokenizers/punkt/{0}.pickle'\u001b[0m\u001b[1;33m.\u001b[0m\u001b[0mformat\u001b[0m\u001b[1;33m(\u001b[0m\u001b[0mlanguage\u001b[0m\u001b[1;33m)\u001b[0m\u001b[1;33m)\u001b[0m\u001b[1;33m\u001b[0m\u001b[0m\n\u001b[1;32m---> 97\u001b[1;33m     \u001b[1;32mreturn\u001b[0m \u001b[0mtokenizer\u001b[0m\u001b[1;33m.\u001b[0m\u001b[0mtokenize\u001b[0m\u001b[1;33m(\u001b[0m\u001b[0mtext\u001b[0m\u001b[1;33m)\u001b[0m\u001b[1;33m\u001b[0m\u001b[0m\n\u001b[0m\u001b[0;32m     98\u001b[0m \u001b[1;33m\u001b[0m\u001b[0m\n\u001b[0;32m     99\u001b[0m \u001b[1;31m# Standard word tokenizer.\u001b[0m\u001b[1;33m\u001b[0m\u001b[1;33m\u001b[0m\u001b[0m\n",
      "\u001b[1;32m~\\Anaconda3\\lib\\site-packages\\nltk\\tokenize\\punkt.py\u001b[0m in \u001b[0;36mtokenize\u001b[1;34m(self, text, realign_boundaries)\u001b[0m\n\u001b[0;32m   1233\u001b[0m         \u001b[0mGiven\u001b[0m \u001b[0ma\u001b[0m \u001b[0mtext\u001b[0m\u001b[1;33m,\u001b[0m \u001b[0mreturns\u001b[0m \u001b[0ma\u001b[0m \u001b[0mlist\u001b[0m \u001b[0mof\u001b[0m \u001b[0mthe\u001b[0m \u001b[0msentences\u001b[0m \u001b[1;32min\u001b[0m \u001b[0mthat\u001b[0m \u001b[0mtext\u001b[0m\u001b[1;33m.\u001b[0m\u001b[1;33m\u001b[0m\u001b[0m\n\u001b[0;32m   1234\u001b[0m         \"\"\"\n\u001b[1;32m-> 1235\u001b[1;33m         \u001b[1;32mreturn\u001b[0m \u001b[0mlist\u001b[0m\u001b[1;33m(\u001b[0m\u001b[0mself\u001b[0m\u001b[1;33m.\u001b[0m\u001b[0msentences_from_text\u001b[0m\u001b[1;33m(\u001b[0m\u001b[0mtext\u001b[0m\u001b[1;33m,\u001b[0m \u001b[0mrealign_boundaries\u001b[0m\u001b[1;33m)\u001b[0m\u001b[1;33m)\u001b[0m\u001b[1;33m\u001b[0m\u001b[0m\n\u001b[0m\u001b[0;32m   1236\u001b[0m \u001b[1;33m\u001b[0m\u001b[0m\n\u001b[0;32m   1237\u001b[0m     \u001b[1;32mdef\u001b[0m \u001b[0mdebug_decisions\u001b[0m\u001b[1;33m(\u001b[0m\u001b[0mself\u001b[0m\u001b[1;33m,\u001b[0m \u001b[0mtext\u001b[0m\u001b[1;33m)\u001b[0m\u001b[1;33m:\u001b[0m\u001b[1;33m\u001b[0m\u001b[0m\n",
      "\u001b[1;32m~\\Anaconda3\\lib\\site-packages\\nltk\\tokenize\\punkt.py\u001b[0m in \u001b[0;36msentences_from_text\u001b[1;34m(self, text, realign_boundaries)\u001b[0m\n\u001b[0;32m   1281\u001b[0m         \u001b[0mfollows\u001b[0m \u001b[0mthe\u001b[0m \u001b[0mperiod\u001b[0m\u001b[1;33m.\u001b[0m\u001b[1;33m\u001b[0m\u001b[0m\n\u001b[0;32m   1282\u001b[0m         \"\"\"\n\u001b[1;32m-> 1283\u001b[1;33m         \u001b[1;32mreturn\u001b[0m \u001b[1;33m[\u001b[0m\u001b[0mtext\u001b[0m\u001b[1;33m[\u001b[0m\u001b[0ms\u001b[0m\u001b[1;33m:\u001b[0m\u001b[0me\u001b[0m\u001b[1;33m]\u001b[0m \u001b[1;32mfor\u001b[0m \u001b[0ms\u001b[0m\u001b[1;33m,\u001b[0m \u001b[0me\u001b[0m \u001b[1;32min\u001b[0m \u001b[0mself\u001b[0m\u001b[1;33m.\u001b[0m\u001b[0mspan_tokenize\u001b[0m\u001b[1;33m(\u001b[0m\u001b[0mtext\u001b[0m\u001b[1;33m,\u001b[0m \u001b[0mrealign_boundaries\u001b[0m\u001b[1;33m)\u001b[0m\u001b[1;33m]\u001b[0m\u001b[1;33m\u001b[0m\u001b[0m\n\u001b[0m\u001b[0;32m   1284\u001b[0m \u001b[1;33m\u001b[0m\u001b[0m\n\u001b[0;32m   1285\u001b[0m     \u001b[1;32mdef\u001b[0m \u001b[0m_slices_from_text\u001b[0m\u001b[1;33m(\u001b[0m\u001b[0mself\u001b[0m\u001b[1;33m,\u001b[0m \u001b[0mtext\u001b[0m\u001b[1;33m)\u001b[0m\u001b[1;33m:\u001b[0m\u001b[1;33m\u001b[0m\u001b[0m\n",
      "\u001b[1;32m~\\Anaconda3\\lib\\site-packages\\nltk\\tokenize\\punkt.py\u001b[0m in \u001b[0;36mspan_tokenize\u001b[1;34m(self, text, realign_boundaries)\u001b[0m\n\u001b[0;32m   1272\u001b[0m         \u001b[1;32mif\u001b[0m \u001b[0mrealign_boundaries\u001b[0m\u001b[1;33m:\u001b[0m\u001b[1;33m\u001b[0m\u001b[0m\n\u001b[0;32m   1273\u001b[0m             \u001b[0mslices\u001b[0m \u001b[1;33m=\u001b[0m \u001b[0mself\u001b[0m\u001b[1;33m.\u001b[0m\u001b[0m_realign_boundaries\u001b[0m\u001b[1;33m(\u001b[0m\u001b[0mtext\u001b[0m\u001b[1;33m,\u001b[0m \u001b[0mslices\u001b[0m\u001b[1;33m)\u001b[0m\u001b[1;33m\u001b[0m\u001b[0m\n\u001b[1;32m-> 1274\u001b[1;33m         \u001b[1;32mreturn\u001b[0m \u001b[1;33m[\u001b[0m\u001b[1;33m(\u001b[0m\u001b[0msl\u001b[0m\u001b[1;33m.\u001b[0m\u001b[0mstart\u001b[0m\u001b[1;33m,\u001b[0m \u001b[0msl\u001b[0m\u001b[1;33m.\u001b[0m\u001b[0mstop\u001b[0m\u001b[1;33m)\u001b[0m \u001b[1;32mfor\u001b[0m \u001b[0msl\u001b[0m \u001b[1;32min\u001b[0m \u001b[0mslices\u001b[0m\u001b[1;33m]\u001b[0m\u001b[1;33m\u001b[0m\u001b[0m\n\u001b[0m\u001b[0;32m   1275\u001b[0m \u001b[1;33m\u001b[0m\u001b[0m\n\u001b[0;32m   1276\u001b[0m     \u001b[1;32mdef\u001b[0m \u001b[0msentences_from_text\u001b[0m\u001b[1;33m(\u001b[0m\u001b[0mself\u001b[0m\u001b[1;33m,\u001b[0m \u001b[0mtext\u001b[0m\u001b[1;33m,\u001b[0m \u001b[0mrealign_boundaries\u001b[0m\u001b[1;33m=\u001b[0m\u001b[1;32mTrue\u001b[0m\u001b[1;33m)\u001b[0m\u001b[1;33m:\u001b[0m\u001b[1;33m\u001b[0m\u001b[0m\n",
      "\u001b[1;32m~\\Anaconda3\\lib\\site-packages\\nltk\\tokenize\\punkt.py\u001b[0m in \u001b[0;36m<listcomp>\u001b[1;34m(.0)\u001b[0m\n\u001b[0;32m   1272\u001b[0m         \u001b[1;32mif\u001b[0m \u001b[0mrealign_boundaries\u001b[0m\u001b[1;33m:\u001b[0m\u001b[1;33m\u001b[0m\u001b[0m\n\u001b[0;32m   1273\u001b[0m             \u001b[0mslices\u001b[0m \u001b[1;33m=\u001b[0m \u001b[0mself\u001b[0m\u001b[1;33m.\u001b[0m\u001b[0m_realign_boundaries\u001b[0m\u001b[1;33m(\u001b[0m\u001b[0mtext\u001b[0m\u001b[1;33m,\u001b[0m \u001b[0mslices\u001b[0m\u001b[1;33m)\u001b[0m\u001b[1;33m\u001b[0m\u001b[0m\n\u001b[1;32m-> 1274\u001b[1;33m         \u001b[1;32mreturn\u001b[0m \u001b[1;33m[\u001b[0m\u001b[1;33m(\u001b[0m\u001b[0msl\u001b[0m\u001b[1;33m.\u001b[0m\u001b[0mstart\u001b[0m\u001b[1;33m,\u001b[0m \u001b[0msl\u001b[0m\u001b[1;33m.\u001b[0m\u001b[0mstop\u001b[0m\u001b[1;33m)\u001b[0m \u001b[1;32mfor\u001b[0m \u001b[0msl\u001b[0m \u001b[1;32min\u001b[0m \u001b[0mslices\u001b[0m\u001b[1;33m]\u001b[0m\u001b[1;33m\u001b[0m\u001b[0m\n\u001b[0m\u001b[0;32m   1275\u001b[0m \u001b[1;33m\u001b[0m\u001b[0m\n\u001b[0;32m   1276\u001b[0m     \u001b[1;32mdef\u001b[0m \u001b[0msentences_from_text\u001b[0m\u001b[1;33m(\u001b[0m\u001b[0mself\u001b[0m\u001b[1;33m,\u001b[0m \u001b[0mtext\u001b[0m\u001b[1;33m,\u001b[0m \u001b[0mrealign_boundaries\u001b[0m\u001b[1;33m=\u001b[0m\u001b[1;32mTrue\u001b[0m\u001b[1;33m)\u001b[0m\u001b[1;33m:\u001b[0m\u001b[1;33m\u001b[0m\u001b[0m\n",
      "\u001b[1;32m~\\Anaconda3\\lib\\site-packages\\nltk\\tokenize\\punkt.py\u001b[0m in \u001b[0;36m_realign_boundaries\u001b[1;34m(self, text, slices)\u001b[0m\n\u001b[0;32m   1312\u001b[0m         \"\"\"\n\u001b[0;32m   1313\u001b[0m         \u001b[0mrealign\u001b[0m \u001b[1;33m=\u001b[0m \u001b[1;36m0\u001b[0m\u001b[1;33m\u001b[0m\u001b[0m\n\u001b[1;32m-> 1314\u001b[1;33m         \u001b[1;32mfor\u001b[0m \u001b[0msl1\u001b[0m\u001b[1;33m,\u001b[0m \u001b[0msl2\u001b[0m \u001b[1;32min\u001b[0m \u001b[0m_pair_iter\u001b[0m\u001b[1;33m(\u001b[0m\u001b[0mslices\u001b[0m\u001b[1;33m)\u001b[0m\u001b[1;33m:\u001b[0m\u001b[1;33m\u001b[0m\u001b[0m\n\u001b[0m\u001b[0;32m   1315\u001b[0m             \u001b[0msl1\u001b[0m \u001b[1;33m=\u001b[0m \u001b[0mslice\u001b[0m\u001b[1;33m(\u001b[0m\u001b[0msl1\u001b[0m\u001b[1;33m.\u001b[0m\u001b[0mstart\u001b[0m \u001b[1;33m+\u001b[0m \u001b[0mrealign\u001b[0m\u001b[1;33m,\u001b[0m \u001b[0msl1\u001b[0m\u001b[1;33m.\u001b[0m\u001b[0mstop\u001b[0m\u001b[1;33m)\u001b[0m\u001b[1;33m\u001b[0m\u001b[0m\n\u001b[0;32m   1316\u001b[0m             \u001b[1;32mif\u001b[0m \u001b[1;32mnot\u001b[0m \u001b[0msl2\u001b[0m\u001b[1;33m:\u001b[0m\u001b[1;33m\u001b[0m\u001b[0m\n",
      "\u001b[1;32m~\\Anaconda3\\lib\\site-packages\\nltk\\tokenize\\punkt.py\u001b[0m in \u001b[0;36m_pair_iter\u001b[1;34m(it)\u001b[0m\n\u001b[0;32m    310\u001b[0m     \"\"\"\n\u001b[0;32m    311\u001b[0m     \u001b[0mit\u001b[0m \u001b[1;33m=\u001b[0m \u001b[0miter\u001b[0m\u001b[1;33m(\u001b[0m\u001b[0mit\u001b[0m\u001b[1;33m)\u001b[0m\u001b[1;33m\u001b[0m\u001b[0m\n\u001b[1;32m--> 312\u001b[1;33m     \u001b[0mprev\u001b[0m \u001b[1;33m=\u001b[0m \u001b[0mnext\u001b[0m\u001b[1;33m(\u001b[0m\u001b[0mit\u001b[0m\u001b[1;33m)\u001b[0m\u001b[1;33m\u001b[0m\u001b[0m\n\u001b[0m\u001b[0;32m    313\u001b[0m     \u001b[1;32mfor\u001b[0m \u001b[0mel\u001b[0m \u001b[1;32min\u001b[0m \u001b[0mit\u001b[0m\u001b[1;33m:\u001b[0m\u001b[1;33m\u001b[0m\u001b[0m\n\u001b[0;32m    314\u001b[0m         \u001b[1;32myield\u001b[0m \u001b[1;33m(\u001b[0m\u001b[0mprev\u001b[0m\u001b[1;33m,\u001b[0m \u001b[0mel\u001b[0m\u001b[1;33m)\u001b[0m\u001b[1;33m\u001b[0m\u001b[0m\n",
      "\u001b[1;32m~\\Anaconda3\\lib\\site-packages\\nltk\\tokenize\\punkt.py\u001b[0m in \u001b[0;36m_slices_from_text\u001b[1;34m(self, text)\u001b[0m\n\u001b[0;32m   1296\u001b[0m                     \u001b[0mlast_break\u001b[0m \u001b[1;33m=\u001b[0m \u001b[0mmatch\u001b[0m\u001b[1;33m.\u001b[0m\u001b[0mend\u001b[0m\u001b[1;33m(\u001b[0m\u001b[1;33m)\u001b[0m\u001b[1;33m\u001b[0m\u001b[0m\n\u001b[0;32m   1297\u001b[0m         \u001b[1;31m# The last sentence should not contain trailing whitespace.\u001b[0m\u001b[1;33m\u001b[0m\u001b[1;33m\u001b[0m\u001b[0m\n\u001b[1;32m-> 1298\u001b[1;33m         \u001b[1;32myield\u001b[0m \u001b[0mslice\u001b[0m\u001b[1;33m(\u001b[0m\u001b[0mlast_break\u001b[0m\u001b[1;33m,\u001b[0m \u001b[0mlen\u001b[0m\u001b[1;33m(\u001b[0m\u001b[0mtext\u001b[0m\u001b[1;33m.\u001b[0m\u001b[0mrstrip\u001b[0m\u001b[1;33m(\u001b[0m\u001b[1;33m)\u001b[0m\u001b[1;33m)\u001b[0m\u001b[1;33m)\u001b[0m\u001b[1;33m\u001b[0m\u001b[0m\n\u001b[0m\u001b[0;32m   1299\u001b[0m \u001b[1;33m\u001b[0m\u001b[0m\n\u001b[0;32m   1300\u001b[0m     \u001b[1;32mdef\u001b[0m \u001b[0m_realign_boundaries\u001b[0m\u001b[1;33m(\u001b[0m\u001b[0mself\u001b[0m\u001b[1;33m,\u001b[0m \u001b[0mtext\u001b[0m\u001b[1;33m,\u001b[0m \u001b[0mslices\u001b[0m\u001b[1;33m)\u001b[0m\u001b[1;33m:\u001b[0m\u001b[1;33m\u001b[0m\u001b[0m\n",
      "\u001b[1;31mKeyboardInterrupt\u001b[0m: "
     ]
    }
   ],
   "source": [
    "#N-grams - combination of multiple words used together.\n",
    "j=[]\n",
    "for i,x in enumerate(train['content']):\n",
    "    j = TextBlob(x).ngrams(2)\n",
    "\n",
    "\n"
   ]
  },
  {
   "cell_type": "code",
   "execution_count": null,
   "metadata": {},
   "outputs": [],
   "source": [
    "# Term frequency - ratio of the count of a word present in a sentence, to the length of the sentence\n",
    "tf1 = (train['content']).apply(lambda x: pd.value_counts(x.split(\" \"))).sum(axis = 0).reset_index()\n",
    "tf1.columns = ['words','tf']\n",
    "tf1"
   ]
  },
  {
   "cell_type": "code",
   "execution_count": null,
   "metadata": {},
   "outputs": [],
   "source": [
    "#Inverse Document Frequency - log of the ratio of the total number of rows to the number of rows in which that word is present\n",
    "import numpy as np\n",
    "for i,word in enumerate(tf1['words']):\n",
    "  tf1.loc[i, 'idf'] = np.log(train.shape[0]/(len(train[train['content'].str.contains(word)])))\n",
    "\n",
    "tf1"
   ]
  },
  {
   "cell_type": "code",
   "execution_count": null,
   "metadata": {},
   "outputs": [],
   "source": [
    "#Term Frequency – Inverse Document Frequency (TF-IDF) - multiplication of the TF and IDF \n",
    "tf1['tfidf'] = tf1['tf'] * tf1['idf']\n",
    "tf1\n"
   ]
  },
  {
   "cell_type": "code",
   "execution_count": null,
   "metadata": {},
   "outputs": [],
   "source": [
    "tfidf = TfidfVectorizer(max_features=1000, lowercase=True, analyzer='word',\n",
    " stop_words= 'english',ngram_range=(1,1))\n",
    "train_vect = tfidf.fit_transform(train['content'])\n",
    "\n",
    "train_vect\n"
   ]
  },
  {
   "cell_type": "code",
   "execution_count": null,
   "metadata": {},
   "outputs": [],
   "source": [
    "#Bag of Words - representation of text which describes the presence of words within the text data\n",
    "bow = CountVectorizer(max_features=1000, lowercase=True, ngram_range=(1,1),analyzer = \"word\")\n",
    "train_bow = bow.fit_transform(train['content'])\n",
    "train_bow\n"
   ]
  },
  {
   "cell_type": "code",
   "execution_count": null,
   "metadata": {},
   "outputs": [],
   "source": [
    "# Word Embeddings\n",
    "glove_input_file = 'glove.6B.100d.txt'\n",
    "word2vec_output_file = 'glove.6B.100d.txt.word2vec'\n",
    "# convert it into the word2vec format\n",
    "glove2word2vec(glove_input_file, word2vec_output_file)"
   ]
  },
  {
   "cell_type": "code",
   "execution_count": null,
   "metadata": {
    "collapsed": true
   },
   "outputs": [],
   "source": [
    "#load the above word2vec file as a model\n",
    "filename = 'glove.6B.100d.txt.word2vec'\n",
    "model = KeyedVectors.load_word2vec_format(filename, binary=False)"
   ]
  },
  {
   "cell_type": "code",
   "execution_count": null,
   "metadata": {},
   "outputs": [],
   "source": [
    "model['music']\n"
   ]
  },
  {
   "cell_type": "code",
   "execution_count": null,
   "metadata": {},
   "outputs": [],
   "source": [
    "model['family']\n"
   ]
  },
  {
   "cell_type": "code",
   "execution_count": null,
   "metadata": {},
   "outputs": [],
   "source": [
    "# take the average to represent the string ‘go away’ in the form of vectors having 100 dimensions\n",
    "(model['music'] + model['family'])/2"
   ]
  },
  {
   "cell_type": "code",
   "execution_count": null,
   "metadata": {
    "collapsed": true
   },
   "outputs": [],
   "source": []
  }
 ],
 "metadata": {
  "kernelspec": {
   "display_name": "Python 3",
   "language": "python",
   "name": "python3"
  },
  "language_info": {
   "codemirror_mode": {
    "name": "ipython",
    "version": 3
   },
   "file_extension": ".py",
   "mimetype": "text/x-python",
   "name": "python",
   "nbconvert_exporter": "python",
   "pygments_lexer": "ipython3",
   "version": "3.6.3"
  }
 },
 "nbformat": 4,
 "nbformat_minor": 2
}
