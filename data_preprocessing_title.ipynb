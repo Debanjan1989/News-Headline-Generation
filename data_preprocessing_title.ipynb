{
 "cells": [
  {
   "cell_type": "code",
   "execution_count": 62,
   "metadata": {
    "collapsed": true
   },
   "outputs": [],
   "source": [
    "import csv\n",
    "import os\n",
    "from collections import defaultdict\n",
    "import pandas as pd\n",
    "from nltk.corpus import stopwords\n",
    "from textblob import TextBlob, Word\n",
    "from gensim.scripts.glove2word2vec import glove2word2vec\n",
    "from nltk.stem import PorterStemmer\n",
    "from sklearn.feature_extraction.text import TfidfVectorizer\n",
    "from sklearn.feature_extraction.text import CountVectorizer\n",
    "from gensim.models import KeyedVectors # load the Stanford GloVe model\n",
    "#nltk.download()"
   ]
  },
  {
   "cell_type": "code",
   "execution_count": 63,
   "metadata": {
    "collapsed": true
   },
   "outputs": [],
   "source": [
    "os.getcwd()\n",
    "os.chdir(\"C:\\\\Users\\\\Naini\\\\final-project\\\\News-Headline-Generation\\\\data\")"
   ]
  },
  {
   "cell_type": "code",
   "execution_count": null,
   "metadata": {
    "collapsed": true
   },
   "outputs": [],
   "source": [
    "#columns = defaultdict(list) # each value in each column is appended to a list\n"
   ]
  },
  {
   "cell_type": "code",
   "execution_count": null,
   "metadata": {},
   "outputs": [],
   "source": [
    "'''with open('articles_small.csv', errors='ignore') as f:\n",
    "    reader = csv.DictReader(f) # read rows into a dictionary format\n",
    "    for row in reader: # read a row as {column1: value1, column2: value2,...}\n",
    "        for (k,v) in row.items(): # go over each column name and value \n",
    "            columns[k].append(v) # append the value into the appropriate list\n",
    "                                 # based on column name k '''\n",
    " "
   ]
  },
  {
   "cell_type": "code",
   "execution_count": null,
   "metadata": {},
   "outputs": [],
   "source": [
    "#print(type(columns['title']))\n",
    "#print('---------------------------------------------------------------------------------------------------')   \n",
    "\n",
    "\n"
   ]
  },
  {
   "cell_type": "code",
   "execution_count": null,
   "metadata": {},
   "outputs": [],
   "source": [
    "''' for i,x in enumerate(columns['title']):\n",
    "    print(x)\n",
    "    print('---------------------------------------------------------------------------------------------------')  ''' "
   ]
  },
  {
   "cell_type": "markdown",
   "metadata": {},
   "source": [
    "### 1. Basic Feature Extraction"
   ]
  },
  {
   "cell_type": "code",
   "execution_count": 64,
   "metadata": {
    "collapsed": true
   },
   "outputs": [],
   "source": [
    "#reading csv\n",
    "train = pd.read_csv('articles_small.csv')"
   ]
  },
  {
   "cell_type": "code",
   "execution_count": 65,
   "metadata": {},
   "outputs": [
    {
     "data": {
      "text/html": [
       "<div>\n",
       "<style scoped>\n",
       "    .dataframe tbody tr th:only-of-type {\n",
       "        vertical-align: middle;\n",
       "    }\n",
       "\n",
       "    .dataframe tbody tr th {\n",
       "        vertical-align: top;\n",
       "    }\n",
       "\n",
       "    .dataframe thead th {\n",
       "        text-align: right;\n",
       "    }\n",
       "</style>\n",
       "<table border=\"1\" class=\"dataframe\">\n",
       "  <thead>\n",
       "    <tr style=\"text-align: right;\">\n",
       "      <th></th>\n",
       "      <th>title</th>\n",
       "      <th>word_count</th>\n",
       "    </tr>\n",
       "  </thead>\n",
       "  <tbody>\n",
       "    <tr>\n",
       "      <th>0</th>\n",
       "      <td>House Republicans Fret About Winning Their Hea...</td>\n",
       "      <td>14</td>\n",
       "    </tr>\n",
       "    <tr>\n",
       "      <th>1</th>\n",
       "      <td>Rift Between Officers and Residents as Killing...</td>\n",
       "      <td>16</td>\n",
       "    </tr>\n",
       "    <tr>\n",
       "      <th>2</th>\n",
       "      <td>Tyrus Wong, ‘Bambi’ Artist Thwarted by Racial ...</td>\n",
       "      <td>16</td>\n",
       "    </tr>\n",
       "    <tr>\n",
       "      <th>3</th>\n",
       "      <td>Among Deaths in 2016, a Heavy Toll in Pop Musi...</td>\n",
       "      <td>15</td>\n",
       "    </tr>\n",
       "    <tr>\n",
       "      <th>4</th>\n",
       "      <td>Kim Jong-un Says North Korea Is Preparing to T...</td>\n",
       "      <td>16</td>\n",
       "    </tr>\n",
       "    <tr>\n",
       "      <th>5</th>\n",
       "      <td>Sick With a Cold, Queen Elizabeth Misses New Y...</td>\n",
       "      <td>15</td>\n",
       "    </tr>\n",
       "    <tr>\n",
       "      <th>6</th>\n",
       "      <td>Taiwan’s President Accuses China of Renewed In...</td>\n",
       "      <td>12</td>\n",
       "    </tr>\n",
       "    <tr>\n",
       "      <th>7</th>\n",
       "      <td>After ‘The Biggest Loser,’ Their Bodies Fought...</td>\n",
       "      <td>15</td>\n",
       "    </tr>\n",
       "    <tr>\n",
       "      <th>8</th>\n",
       "      <td>First, a Mixtape. Then a Romance. - The New Yo...</td>\n",
       "      <td>11</td>\n",
       "    </tr>\n",
       "    <tr>\n",
       "      <th>9</th>\n",
       "      <td>Calling on Angels While Enduring the Trials of...</td>\n",
       "      <td>14</td>\n",
       "    </tr>\n",
       "    <tr>\n",
       "      <th>10</th>\n",
       "      <td>Weak Federal Powers Could Limit Trump’s Climat...</td>\n",
       "      <td>13</td>\n",
       "    </tr>\n",
       "    <tr>\n",
       "      <th>11</th>\n",
       "      <td>Can Carbon Capture Technology Prosper Under Tr...</td>\n",
       "      <td>12</td>\n",
       "    </tr>\n",
       "    <tr>\n",
       "      <th>12</th>\n",
       "      <td>Mar-a-Lago, the Future Winter White House and ...</td>\n",
       "      <td>17</td>\n",
       "    </tr>\n",
       "    <tr>\n",
       "      <th>13</th>\n",
       "      <td>How to form healthy habits in your 20s - The N...</td>\n",
       "      <td>13</td>\n",
       "    </tr>\n",
       "    <tr>\n",
       "      <th>14</th>\n",
       "      <td>Turning Your Vacation Photos Into Works of Art...</td>\n",
       "      <td>13</td>\n",
       "    </tr>\n",
       "    <tr>\n",
       "      <th>15</th>\n",
       "      <td>As Second Avenue Subway Opens, a Train Delay E...</td>\n",
       "      <td>17</td>\n",
       "    </tr>\n",
       "    <tr>\n",
       "      <th>16</th>\n",
       "      <td>Dylann Roof Himself Rejects Best Defense Again...</td>\n",
       "      <td>13</td>\n",
       "    </tr>\n",
       "    <tr>\n",
       "      <th>17</th>\n",
       "      <td>Modi’s Cash Ban Brings Pain, but Corruption-We...</td>\n",
       "      <td>16</td>\n",
       "    </tr>\n",
       "    <tr>\n",
       "      <th>18</th>\n",
       "      <td>Suicide Bombing in Baghdad Kills at Least 36 -...</td>\n",
       "      <td>13</td>\n",
       "    </tr>\n",
       "    <tr>\n",
       "      <th>19</th>\n",
       "      <td>Fecal Pollution Taints Water at Melbourne’s Be...</td>\n",
       "      <td>14</td>\n",
       "    </tr>\n",
       "    <tr>\n",
       "      <th>20</th>\n",
       "      <td>N.F.L. Playoffs: Schedule, Matchups and Odds -...</td>\n",
       "      <td>11</td>\n",
       "    </tr>\n",
       "    <tr>\n",
       "      <th>21</th>\n",
       "      <td>Mariah Carey’s Manager Blames Producers for Ne...</td>\n",
       "      <td>15</td>\n",
       "    </tr>\n",
       "    <tr>\n",
       "      <th>22</th>\n",
       "      <td>Damaged by War, Syria’s Cultural Sites Rise An...</td>\n",
       "      <td>15</td>\n",
       "    </tr>\n",
       "    <tr>\n",
       "      <th>23</th>\n",
       "      <td>George Michael’s Freedom Video: An Oral Histor...</td>\n",
       "      <td>12</td>\n",
       "    </tr>\n",
       "    <tr>\n",
       "      <th>24</th>\n",
       "      <td>With New Congress Poised to Convene, Obama’s P...</td>\n",
       "      <td>16</td>\n",
       "    </tr>\n",
       "    <tr>\n",
       "      <th>25</th>\n",
       "      <td>Republicans Stonewalled Obama. Now the Ball Is...</td>\n",
       "      <td>15</td>\n",
       "    </tr>\n",
       "    <tr>\n",
       "      <th>26</th>\n",
       "      <td>Istanbul, Donald Trump, Benjamin Netanyahu: Yo...</td>\n",
       "      <td>13</td>\n",
       "    </tr>\n",
       "    <tr>\n",
       "      <th>27</th>\n",
       "      <td>Inside Trump Defense Secretary Pick’s Efforts ...</td>\n",
       "      <td>14</td>\n",
       "    </tr>\n",
       "    <tr>\n",
       "      <th>28</th>\n",
       "      <td>ISIS Claims Responsibility for Istanbul Nightc...</td>\n",
       "      <td>12</td>\n",
       "    </tr>\n",
       "    <tr>\n",
       "      <th>29</th>\n",
       "      <td>The Afghan War and the Evolution of Obama - Th...</td>\n",
       "      <td>13</td>\n",
       "    </tr>\n",
       "    <tr>\n",
       "      <th>...</th>\n",
       "      <td>...</td>\n",
       "      <td>...</td>\n",
       "    </tr>\n",
       "    <tr>\n",
       "      <th>66</th>\n",
       "      <td>How We Put Together Our 52 Places to Go List -...</td>\n",
       "      <td>15</td>\n",
       "    </tr>\n",
       "    <tr>\n",
       "      <th>67</th>\n",
       "      <td>Places to Put Your Hands Together - The New Yo...</td>\n",
       "      <td>11</td>\n",
       "    </tr>\n",
       "    <tr>\n",
       "      <th>68</th>\n",
       "      <td>Getting Around by Rail, Sail or Foot - The New...</td>\n",
       "      <td>12</td>\n",
       "    </tr>\n",
       "    <tr>\n",
       "      <th>69</th>\n",
       "      <td>5 Must-See Shows if You’re in New York This Mo...</td>\n",
       "      <td>15</td>\n",
       "    </tr>\n",
       "    <tr>\n",
       "      <th>70</th>\n",
       "      <td>Remaking Kennedy Airport Is Governor’s Next Bi...</td>\n",
       "      <td>13</td>\n",
       "    </tr>\n",
       "    <tr>\n",
       "      <th>71</th>\n",
       "      <td>Cyberwar for Sale - The New York Times</td>\n",
       "      <td>8</td>\n",
       "    </tr>\n",
       "    <tr>\n",
       "      <th>72</th>\n",
       "      <td>we had been talking about ghosts</td>\n",
       "      <td>7</td>\n",
       "    </tr>\n",
       "    <tr>\n",
       "      <th>73</th>\n",
       "      <td>Why Men Don’t Want the Jobs Done Mostly by Wom...</td>\n",
       "      <td>15</td>\n",
       "    </tr>\n",
       "    <tr>\n",
       "      <th>74</th>\n",
       "      <td>Apple Removes New York Times Apps From Its Sto...</td>\n",
       "      <td>16</td>\n",
       "    </tr>\n",
       "    <tr>\n",
       "      <th>75</th>\n",
       "      <td>Fed Officials See Faster Economic Growth Under...</td>\n",
       "      <td>16</td>\n",
       "    </tr>\n",
       "    <tr>\n",
       "      <th>76</th>\n",
       "      <td>Rockefeller Foundation Picks Rajiv J. Shah, a ...</td>\n",
       "      <td>15</td>\n",
       "    </tr>\n",
       "    <tr>\n",
       "      <th>77</th>\n",
       "      <td>Philippines Jailbreak Frees More Than 150 Inma...</td>\n",
       "      <td>14</td>\n",
       "    </tr>\n",
       "    <tr>\n",
       "      <th>78</th>\n",
       "      <td>Enough With the Tweets, China’s State Media Te...</td>\n",
       "      <td>14</td>\n",
       "    </tr>\n",
       "    <tr>\n",
       "      <th>79</th>\n",
       "      <td>Coming to Carnival Cruises: A Wearable Medalli...</td>\n",
       "      <td>17</td>\n",
       "    </tr>\n",
       "    <tr>\n",
       "      <th>80</th>\n",
       "      <td>2 Credit-Reporting Agencies Must Pay $23 Milli...</td>\n",
       "      <td>15</td>\n",
       "    </tr>\n",
       "    <tr>\n",
       "      <th>81</th>\n",
       "      <td>Coal Fire, Not Just Iceberg, Doomed the Titani...</td>\n",
       "      <td>16</td>\n",
       "    </tr>\n",
       "    <tr>\n",
       "      <th>82</th>\n",
       "      <td>Chase Sapphire Reserve Card’s Huge Bonus Will ...</td>\n",
       "      <td>14</td>\n",
       "    </tr>\n",
       "    <tr>\n",
       "      <th>83</th>\n",
       "      <td>Broadway Breaks Multiple Records Through New Y...</td>\n",
       "      <td>13</td>\n",
       "    </tr>\n",
       "    <tr>\n",
       "      <th>84</th>\n",
       "      <td>Italian Inmates Sip, Smell and Taste Their Way...</td>\n",
       "      <td>15</td>\n",
       "    </tr>\n",
       "    <tr>\n",
       "      <th>85</th>\n",
       "      <td>The 2017 Class Divide, as Dissected by a New ‘...</td>\n",
       "      <td>19</td>\n",
       "    </tr>\n",
       "    <tr>\n",
       "      <th>86</th>\n",
       "      <td>Michael Eric Dyson Believes in Individual Repa...</td>\n",
       "      <td>12</td>\n",
       "    </tr>\n",
       "    <tr>\n",
       "      <th>87</th>\n",
       "      <td>For Sale: Condé Nast Treasures - The New York ...</td>\n",
       "      <td>10</td>\n",
       "    </tr>\n",
       "    <tr>\n",
       "      <th>88</th>\n",
       "      <td>Countering Trump, Bipartisan Voices Strongly A...</td>\n",
       "      <td>15</td>\n",
       "    </tr>\n",
       "    <tr>\n",
       "      <th>89</th>\n",
       "      <td>Dan Coats, the ‘Mister Rogers’ Senator Poised ...</td>\n",
       "      <td>16</td>\n",
       "    </tr>\n",
       "    <tr>\n",
       "      <th>90</th>\n",
       "      <td>The Perfect Weapon: How Russian Cyberpower Inv...</td>\n",
       "      <td>14</td>\n",
       "    </tr>\n",
       "    <tr>\n",
       "      <th>91</th>\n",
       "      <td>Trump Said ‘Torture Works.’ An Echo Is Feared ...</td>\n",
       "      <td>14</td>\n",
       "    </tr>\n",
       "    <tr>\n",
       "      <th>92</th>\n",
       "      <td>Republicans’ 4-Step Plan to Repeal the Afforda...</td>\n",
       "      <td>14</td>\n",
       "    </tr>\n",
       "    <tr>\n",
       "      <th>93</th>\n",
       "      <td>In Break With Precedent, Obama Envoys Are Deni...</td>\n",
       "      <td>17</td>\n",
       "    </tr>\n",
       "    <tr>\n",
       "      <th>94</th>\n",
       "      <td>Trump Takes on Democrats and Health Law in New...</td>\n",
       "      <td>16</td>\n",
       "    </tr>\n",
       "    <tr>\n",
       "      <th>95</th>\n",
       "      <td>Ending Speculation, Black College Says Band Wi...</td>\n",
       "      <td>16</td>\n",
       "    </tr>\n",
       "  </tbody>\n",
       "</table>\n",
       "<p>96 rows × 2 columns</p>\n",
       "</div>"
      ],
      "text/plain": [
       "                                                title  word_count\n",
       "0   House Republicans Fret About Winning Their Hea...          14\n",
       "1   Rift Between Officers and Residents as Killing...          16\n",
       "2   Tyrus Wong, ‘Bambi’ Artist Thwarted by Racial ...          16\n",
       "3   Among Deaths in 2016, a Heavy Toll in Pop Musi...          15\n",
       "4   Kim Jong-un Says North Korea Is Preparing to T...          16\n",
       "5   Sick With a Cold, Queen Elizabeth Misses New Y...          15\n",
       "6   Taiwan’s President Accuses China of Renewed In...          12\n",
       "7   After ‘The Biggest Loser,’ Their Bodies Fought...          15\n",
       "8   First, a Mixtape. Then a Romance. - The New Yo...          11\n",
       "9   Calling on Angels While Enduring the Trials of...          14\n",
       "10  Weak Federal Powers Could Limit Trump’s Climat...          13\n",
       "11  Can Carbon Capture Technology Prosper Under Tr...          12\n",
       "12  Mar-a-Lago, the Future Winter White House and ...          17\n",
       "13  How to form healthy habits in your 20s - The N...          13\n",
       "14  Turning Your Vacation Photos Into Works of Art...          13\n",
       "15  As Second Avenue Subway Opens, a Train Delay E...          17\n",
       "16  Dylann Roof Himself Rejects Best Defense Again...          13\n",
       "17  Modi’s Cash Ban Brings Pain, but Corruption-We...          16\n",
       "18  Suicide Bombing in Baghdad Kills at Least 36 -...          13\n",
       "19  Fecal Pollution Taints Water at Melbourne’s Be...          14\n",
       "20  N.F.L. Playoffs: Schedule, Matchups and Odds -...          11\n",
       "21  Mariah Carey’s Manager Blames Producers for Ne...          15\n",
       "22  Damaged by War, Syria’s Cultural Sites Rise An...          15\n",
       "23  George Michael’s Freedom Video: An Oral Histor...          12\n",
       "24  With New Congress Poised to Convene, Obama’s P...          16\n",
       "25  Republicans Stonewalled Obama. Now the Ball Is...          15\n",
       "26  Istanbul, Donald Trump, Benjamin Netanyahu: Yo...          13\n",
       "27  Inside Trump Defense Secretary Pick’s Efforts ...          14\n",
       "28  ISIS Claims Responsibility for Istanbul Nightc...          12\n",
       "29  The Afghan War and the Evolution of Obama - Th...          13\n",
       "..                                                ...         ...\n",
       "66  How We Put Together Our 52 Places to Go List -...          15\n",
       "67  Places to Put Your Hands Together - The New Yo...          11\n",
       "68  Getting Around by Rail, Sail or Foot - The New...          12\n",
       "69  5 Must-See Shows if You’re in New York This Mo...          15\n",
       "70  Remaking Kennedy Airport Is Governor’s Next Bi...          13\n",
       "71             Cyberwar for Sale - The New York Times           8\n",
       "72                   we had been talking about ghosts           7\n",
       "73  Why Men Don’t Want the Jobs Done Mostly by Wom...          15\n",
       "74  Apple Removes New York Times Apps From Its Sto...          16\n",
       "75  Fed Officials See Faster Economic Growth Under...          16\n",
       "76  Rockefeller Foundation Picks Rajiv J. Shah, a ...          15\n",
       "77  Philippines Jailbreak Frees More Than 150 Inma...          14\n",
       "78  Enough With the Tweets, China’s State Media Te...          14\n",
       "79  Coming to Carnival Cruises: A Wearable Medalli...          17\n",
       "80  2 Credit-Reporting Agencies Must Pay $23 Milli...          15\n",
       "81  Coal Fire, Not Just Iceberg, Doomed the Titani...          16\n",
       "82  Chase Sapphire Reserve Card’s Huge Bonus Will ...          14\n",
       "83  Broadway Breaks Multiple Records Through New Y...          13\n",
       "84  Italian Inmates Sip, Smell and Taste Their Way...          15\n",
       "85  The 2017 Class Divide, as Dissected by a New ‘...          19\n",
       "86  Michael Eric Dyson Believes in Individual Repa...          12\n",
       "87  For Sale: Condé Nast Treasures - The New York ...          10\n",
       "88  Countering Trump, Bipartisan Voices Strongly A...          15\n",
       "89  Dan Coats, the ‘Mister Rogers’ Senator Poised ...          16\n",
       "90  The Perfect Weapon: How Russian Cyberpower Inv...          14\n",
       "91  Trump Said ‘Torture Works.’ An Echo Is Feared ...          14\n",
       "92  Republicans’ 4-Step Plan to Repeal the Afforda...          14\n",
       "93  In Break With Precedent, Obama Envoys Are Deni...          17\n",
       "94  Trump Takes on Democrats and Health Law in New...          16\n",
       "95  Ending Speculation, Black College Says Band Wi...          16\n",
       "\n",
       "[96 rows x 2 columns]"
      ]
     },
     "execution_count": 65,
     "metadata": {},
     "output_type": "execute_result"
    }
   ],
   "source": [
    "#Number of Words\n",
    "train['word_count'] = train['title'].apply(lambda x: len(str(x).split(\" \")))\n",
    "train[['title','word_count']]"
   ]
  },
  {
   "cell_type": "code",
   "execution_count": 66,
   "metadata": {},
   "outputs": [
    {
     "data": {
      "text/html": [
       "<div>\n",
       "<style scoped>\n",
       "    .dataframe tbody tr th:only-of-type {\n",
       "        vertical-align: middle;\n",
       "    }\n",
       "\n",
       "    .dataframe tbody tr th {\n",
       "        vertical-align: top;\n",
       "    }\n",
       "\n",
       "    .dataframe thead th {\n",
       "        text-align: right;\n",
       "    }\n",
       "</style>\n",
       "<table border=\"1\" class=\"dataframe\">\n",
       "  <thead>\n",
       "    <tr style=\"text-align: right;\">\n",
       "      <th></th>\n",
       "      <th>title</th>\n",
       "      <th>char_count</th>\n",
       "    </tr>\n",
       "  </thead>\n",
       "  <tbody>\n",
       "    <tr>\n",
       "      <th>0</th>\n",
       "      <td>House Republicans Fret About Winning Their Hea...</td>\n",
       "      <td>80</td>\n",
       "    </tr>\n",
       "    <tr>\n",
       "      <th>1</th>\n",
       "      <td>Rift Between Officers and Residents as Killing...</td>\n",
       "      <td>91</td>\n",
       "    </tr>\n",
       "    <tr>\n",
       "      <th>2</th>\n",
       "      <td>Tyrus Wong, ‘Bambi’ Artist Thwarted by Racial ...</td>\n",
       "      <td>84</td>\n",
       "    </tr>\n",
       "    <tr>\n",
       "      <th>3</th>\n",
       "      <td>Among Deaths in 2016, a Heavy Toll in Pop Musi...</td>\n",
       "      <td>68</td>\n",
       "    </tr>\n",
       "    <tr>\n",
       "      <th>4</th>\n",
       "      <td>Kim Jong-un Says North Korea Is Preparing to T...</td>\n",
       "      <td>89</td>\n",
       "    </tr>\n",
       "  </tbody>\n",
       "</table>\n",
       "</div>"
      ],
      "text/plain": [
       "                                               title  char_count\n",
       "0  House Republicans Fret About Winning Their Hea...          80\n",
       "1  Rift Between Officers and Residents as Killing...          91\n",
       "2  Tyrus Wong, ‘Bambi’ Artist Thwarted by Racial ...          84\n",
       "3  Among Deaths in 2016, a Heavy Toll in Pop Musi...          68\n",
       "4  Kim Jong-un Says North Korea Is Preparing to T...          89"
      ]
     },
     "execution_count": 66,
     "metadata": {},
     "output_type": "execute_result"
    }
   ],
   "source": [
    "#Number of characters\n",
    "train['char_count'] = train['title'].str.len() ## this also includes spaces\n",
    "train[['title','char_count']].head()"
   ]
  },
  {
   "cell_type": "code",
   "execution_count": 67,
   "metadata": {
    "collapsed": true
   },
   "outputs": [],
   "source": [
    "# Average Word Length\n",
    "def avg_word(sentence):\n",
    "  words = sentence.split()\n",
    "  return (sum(len(word) for word in words)/len(words))"
   ]
  },
  {
   "cell_type": "code",
   "execution_count": 68,
   "metadata": {},
   "outputs": [
    {
     "data": {
      "text/html": [
       "<div>\n",
       "<style scoped>\n",
       "    .dataframe tbody tr th:only-of-type {\n",
       "        vertical-align: middle;\n",
       "    }\n",
       "\n",
       "    .dataframe tbody tr th {\n",
       "        vertical-align: top;\n",
       "    }\n",
       "\n",
       "    .dataframe thead th {\n",
       "        text-align: right;\n",
       "    }\n",
       "</style>\n",
       "<table border=\"1\" class=\"dataframe\">\n",
       "  <thead>\n",
       "    <tr style=\"text-align: right;\">\n",
       "      <th></th>\n",
       "      <th>title</th>\n",
       "      <th>avg_word</th>\n",
       "    </tr>\n",
       "  </thead>\n",
       "  <tbody>\n",
       "    <tr>\n",
       "      <th>0</th>\n",
       "      <td>House Republicans Fret About Winning Their Hea...</td>\n",
       "      <td>4.785714</td>\n",
       "    </tr>\n",
       "    <tr>\n",
       "      <th>1</th>\n",
       "      <td>Rift Between Officers and Residents as Killing...</td>\n",
       "      <td>4.750000</td>\n",
       "    </tr>\n",
       "    <tr>\n",
       "      <th>2</th>\n",
       "      <td>Tyrus Wong, ‘Bambi’ Artist Thwarted by Racial ...</td>\n",
       "      <td>4.312500</td>\n",
       "    </tr>\n",
       "    <tr>\n",
       "      <th>3</th>\n",
       "      <td>Among Deaths in 2016, a Heavy Toll in Pop Musi...</td>\n",
       "      <td>3.600000</td>\n",
       "    </tr>\n",
       "    <tr>\n",
       "      <th>4</th>\n",
       "      <td>Kim Jong-un Says North Korea Is Preparing to T...</td>\n",
       "      <td>4.625000</td>\n",
       "    </tr>\n",
       "  </tbody>\n",
       "</table>\n",
       "</div>"
      ],
      "text/plain": [
       "                                               title  avg_word\n",
       "0  House Republicans Fret About Winning Their Hea...  4.785714\n",
       "1  Rift Between Officers and Residents as Killing...  4.750000\n",
       "2  Tyrus Wong, ‘Bambi’ Artist Thwarted by Racial ...  4.312500\n",
       "3  Among Deaths in 2016, a Heavy Toll in Pop Musi...  3.600000\n",
       "4  Kim Jong-un Says North Korea Is Preparing to T...  4.625000"
      ]
     },
     "execution_count": 68,
     "metadata": {},
     "output_type": "execute_result"
    }
   ],
   "source": [
    "train['avg_word'] = train['title'].apply(lambda x: avg_word(x))\n",
    "train[['title','avg_word']].head()"
   ]
  },
  {
   "cell_type": "code",
   "execution_count": 69,
   "metadata": {},
   "outputs": [],
   "source": [
    "#Number of stopwords\n",
    "stop = stopwords.words('english')"
   ]
  },
  {
   "cell_type": "code",
   "execution_count": 70,
   "metadata": {},
   "outputs": [
    {
     "data": {
      "text/html": [
       "<div>\n",
       "<style scoped>\n",
       "    .dataframe tbody tr th:only-of-type {\n",
       "        vertical-align: middle;\n",
       "    }\n",
       "\n",
       "    .dataframe tbody tr th {\n",
       "        vertical-align: top;\n",
       "    }\n",
       "\n",
       "    .dataframe thead th {\n",
       "        text-align: right;\n",
       "    }\n",
       "</style>\n",
       "<table border=\"1\" class=\"dataframe\">\n",
       "  <thead>\n",
       "    <tr style=\"text-align: right;\">\n",
       "      <th></th>\n",
       "      <th>title</th>\n",
       "      <th>stopwords</th>\n",
       "    </tr>\n",
       "  </thead>\n",
       "  <tbody>\n",
       "    <tr>\n",
       "      <th>0</th>\n",
       "      <td>House Republicans Fret About Winning Their Hea...</td>\n",
       "      <td>0</td>\n",
       "    </tr>\n",
       "    <tr>\n",
       "      <th>1</th>\n",
       "      <td>Rift Between Officers and Residents as Killing...</td>\n",
       "      <td>3</td>\n",
       "    </tr>\n",
       "    <tr>\n",
       "      <th>2</th>\n",
       "      <td>Tyrus Wong, ‘Bambi’ Artist Thwarted by Racial ...</td>\n",
       "      <td>2</td>\n",
       "    </tr>\n",
       "    <tr>\n",
       "      <th>3</th>\n",
       "      <td>Among Deaths in 2016, a Heavy Toll in Pop Musi...</td>\n",
       "      <td>3</td>\n",
       "    </tr>\n",
       "    <tr>\n",
       "      <th>4</th>\n",
       "      <td>Kim Jong-un Says North Korea Is Preparing to T...</td>\n",
       "      <td>1</td>\n",
       "    </tr>\n",
       "  </tbody>\n",
       "</table>\n",
       "</div>"
      ],
      "text/plain": [
       "                                               title  stopwords\n",
       "0  House Republicans Fret About Winning Their Hea...          0\n",
       "1  Rift Between Officers and Residents as Killing...          3\n",
       "2  Tyrus Wong, ‘Bambi’ Artist Thwarted by Racial ...          2\n",
       "3  Among Deaths in 2016, a Heavy Toll in Pop Musi...          3\n",
       "4  Kim Jong-un Says North Korea Is Preparing to T...          1"
      ]
     },
     "execution_count": 70,
     "metadata": {},
     "output_type": "execute_result"
    }
   ],
   "source": [
    "train['stopwords'] = train['title'].apply(lambda x: len([x for x in x.split() if x in stop]))\n",
    "train[['title','stopwords']].head()"
   ]
  },
  {
   "cell_type": "code",
   "execution_count": 71,
   "metadata": {},
   "outputs": [
    {
     "data": {
      "text/html": [
       "<div>\n",
       "<style scoped>\n",
       "    .dataframe tbody tr th:only-of-type {\n",
       "        vertical-align: middle;\n",
       "    }\n",
       "\n",
       "    .dataframe tbody tr th {\n",
       "        vertical-align: top;\n",
       "    }\n",
       "\n",
       "    .dataframe thead th {\n",
       "        text-align: right;\n",
       "    }\n",
       "</style>\n",
       "<table border=\"1\" class=\"dataframe\">\n",
       "  <thead>\n",
       "    <tr style=\"text-align: right;\">\n",
       "      <th></th>\n",
       "      <th>title</th>\n",
       "      <th>numerics</th>\n",
       "    </tr>\n",
       "  </thead>\n",
       "  <tbody>\n",
       "    <tr>\n",
       "      <th>0</th>\n",
       "      <td>House Republicans Fret About Winning Their Hea...</td>\n",
       "      <td>0</td>\n",
       "    </tr>\n",
       "    <tr>\n",
       "      <th>1</th>\n",
       "      <td>Rift Between Officers and Residents as Killing...</td>\n",
       "      <td>0</td>\n",
       "    </tr>\n",
       "    <tr>\n",
       "      <th>2</th>\n",
       "      <td>Tyrus Wong, ‘Bambi’ Artist Thwarted by Racial ...</td>\n",
       "      <td>1</td>\n",
       "    </tr>\n",
       "    <tr>\n",
       "      <th>3</th>\n",
       "      <td>Among Deaths in 2016, a Heavy Toll in Pop Musi...</td>\n",
       "      <td>0</td>\n",
       "    </tr>\n",
       "    <tr>\n",
       "      <th>4</th>\n",
       "      <td>Kim Jong-un Says North Korea Is Preparing to T...</td>\n",
       "      <td>0</td>\n",
       "    </tr>\n",
       "  </tbody>\n",
       "</table>\n",
       "</div>"
      ],
      "text/plain": [
       "                                               title  numerics\n",
       "0  House Republicans Fret About Winning Their Hea...         0\n",
       "1  Rift Between Officers and Residents as Killing...         0\n",
       "2  Tyrus Wong, ‘Bambi’ Artist Thwarted by Racial ...         1\n",
       "3  Among Deaths in 2016, a Heavy Toll in Pop Musi...         0\n",
       "4  Kim Jong-un Says North Korea Is Preparing to T...         0"
      ]
     },
     "execution_count": 71,
     "metadata": {},
     "output_type": "execute_result"
    }
   ],
   "source": [
    "#Number of numerics\n",
    "train['numerics'] = train['title'].apply(lambda x: len([x for x in x.split() if x.isdigit()]))\n",
    "train[['title','numerics']].head()"
   ]
  },
  {
   "cell_type": "code",
   "execution_count": 72,
   "metadata": {},
   "outputs": [
    {
     "data": {
      "text/html": [
       "<div>\n",
       "<style scoped>\n",
       "    .dataframe tbody tr th:only-of-type {\n",
       "        vertical-align: middle;\n",
       "    }\n",
       "\n",
       "    .dataframe tbody tr th {\n",
       "        vertical-align: top;\n",
       "    }\n",
       "\n",
       "    .dataframe thead th {\n",
       "        text-align: right;\n",
       "    }\n",
       "</style>\n",
       "<table border=\"1\" class=\"dataframe\">\n",
       "  <thead>\n",
       "    <tr style=\"text-align: right;\">\n",
       "      <th></th>\n",
       "      <th>title</th>\n",
       "      <th>upper</th>\n",
       "    </tr>\n",
       "  </thead>\n",
       "  <tbody>\n",
       "    <tr>\n",
       "      <th>0</th>\n",
       "      <td>House Republicans Fret About Winning Their Hea...</td>\n",
       "      <td>0</td>\n",
       "    </tr>\n",
       "    <tr>\n",
       "      <th>1</th>\n",
       "      <td>Rift Between Officers and Residents as Killing...</td>\n",
       "      <td>0</td>\n",
       "    </tr>\n",
       "    <tr>\n",
       "      <th>2</th>\n",
       "      <td>Tyrus Wong, ‘Bambi’ Artist Thwarted by Racial ...</td>\n",
       "      <td>0</td>\n",
       "    </tr>\n",
       "    <tr>\n",
       "      <th>3</th>\n",
       "      <td>Among Deaths in 2016, a Heavy Toll in Pop Musi...</td>\n",
       "      <td>0</td>\n",
       "    </tr>\n",
       "    <tr>\n",
       "      <th>4</th>\n",
       "      <td>Kim Jong-un Says North Korea Is Preparing to T...</td>\n",
       "      <td>0</td>\n",
       "    </tr>\n",
       "  </tbody>\n",
       "</table>\n",
       "</div>"
      ],
      "text/plain": [
       "                                               title  upper\n",
       "0  House Republicans Fret About Winning Their Hea...      0\n",
       "1  Rift Between Officers and Residents as Killing...      0\n",
       "2  Tyrus Wong, ‘Bambi’ Artist Thwarted by Racial ...      0\n",
       "3  Among Deaths in 2016, a Heavy Toll in Pop Musi...      0\n",
       "4  Kim Jong-un Says North Korea Is Preparing to T...      0"
      ]
     },
     "execution_count": 72,
     "metadata": {},
     "output_type": "execute_result"
    }
   ],
   "source": [
    "#Number of Uppercase words\n",
    "train['upper'] = train['title'].apply(lambda x: len([x for x in x.split() if x.isupper()]))\n",
    "train[['title','upper']].head()"
   ]
  },
  {
   "cell_type": "markdown",
   "metadata": {},
   "source": [
    "### 2. Basic Pre-processing"
   ]
  },
  {
   "cell_type": "code",
   "execution_count": 73,
   "metadata": {},
   "outputs": [
    {
     "data": {
      "text/plain": [
       "0    house republicans fret about winning their hea...\n",
       "1    rift between officers and residents as killing...\n",
       "2    tyrus wong, ‘bambi’ artist thwarted by racial ...\n",
       "3    among deaths in 2016, a heavy toll in pop musi...\n",
       "4    kim jong-un says north korea is preparing to t...\n",
       "Name: title, dtype: object"
      ]
     },
     "execution_count": 73,
     "metadata": {},
     "output_type": "execute_result"
    }
   ],
   "source": [
    "#transform data into lower case\n",
    "train['title'] = train['title'].apply(lambda x: \" \".join(x.lower() for x in x.split()))\n",
    "train['title'].head()"
   ]
  },
  {
   "cell_type": "code",
   "execution_count": 74,
   "metadata": {},
   "outputs": [
    {
     "data": {
      "text/plain": [
       "0    house republicans fret about winning their hea...\n",
       "1    rift between officers and residents as killing...\n",
       "2    tyrus wong bambi artist thwarted by racial bia...\n",
       "3    among deaths in 2016 a heavy toll in pop music...\n",
       "4    kim jongun says north korea is preparing to te...\n",
       "Name: title, dtype: object"
      ]
     },
     "execution_count": 74,
     "metadata": {},
     "output_type": "execute_result"
    }
   ],
   "source": [
    "#Removing Punctuation\n",
    "train['title'] = train['title'].str.replace('[^\\w\\s]','')\n",
    "train['title'].head()"
   ]
  },
  {
   "cell_type": "code",
   "execution_count": 14,
   "metadata": {},
   "outputs": [
    {
     "data": {
      "text/plain": [
       "0    house republicans fret winning health care sui...\n",
       "1    rift officers residents killings persist south...\n",
       "2    tyrus wong bambi artist thwarted racial bias d...\n",
       "3    among deaths 2016 heavy toll pop music new yor...\n",
       "4    kim jongun says north korea preparing test lon...\n",
       "Name: title, dtype: object"
      ]
     },
     "execution_count": 14,
     "metadata": {},
     "output_type": "execute_result"
    }
   ],
   "source": [
    "#Removal of Stop Words\n",
    "train['title'] = train['title'].apply(lambda x: \" \".join(x for x in x.split() if x not in stop))\n",
    "train['title'].head()"
   ]
  },
  {
   "cell_type": "code",
   "execution_count": 19,
   "metadata": {},
   "outputs": [
    {
     "data": {
      "text/plain": [
       "briefing    2\n",
       "big         2\n",
       "subway      2\n",
       "first       2\n",
       "syrias      2\n",
       "fox         2\n",
       "france      2\n",
       "kills       2\n",
       "benjamin    2\n",
       "could       2\n",
       "dtype: int64"
      ]
     },
     "execution_count": 19,
     "metadata": {},
     "output_type": "execute_result"
    }
   ],
   "source": [
    "#Common word removal\n",
    "freq = pd.Series(' '.join(train['title']).split()).value_counts()[:10]\n",
    "freq"
   ]
  },
  {
   "cell_type": "code",
   "execution_count": 20,
   "metadata": {},
   "outputs": [
    {
     "data": {
      "text/plain": [
       "0                                    fret winning suit\n",
       "1    rift officers residents killings persist south...\n",
       "2    tyrus wong bambi artist thwarted racial bias d...\n",
       "3               among deaths 2016 heavy toll pop music\n",
       "4    kim jongun north korea preparing test longrang...\n",
       "Name: title, dtype: object"
      ]
     },
     "execution_count": 20,
     "metadata": {},
     "output_type": "execute_result"
    }
   ],
   "source": [
    "freq = list(freq.index)\n",
    "train['title'] = train['title'].apply(lambda x: \" \".join(x for x in x.split() if x not in freq))\n",
    "train['title'].head()"
   ]
  },
  {
   "cell_type": "code",
   "execution_count": 21,
   "metadata": {},
   "outputs": [
    {
     "data": {
      "text/plain": [
       "residents      1\n",
       "anew           1\n",
       "stonewalled    1\n",
       "official       1\n",
       "heavy          1\n",
       "jonathan       1\n",
       "prompting      1\n",
       "fecal          1\n",
       "twitter        1\n",
       "faster         1\n",
       "dtype: int64"
      ]
     },
     "execution_count": 21,
     "metadata": {},
     "output_type": "execute_result"
    }
   ],
   "source": [
    "#Rare words removal\n",
    "rare = pd.Series(' '.join(train['title']).split()).value_counts()[-10:]\n",
    "rare"
   ]
  },
  {
   "cell_type": "code",
   "execution_count": 22,
   "metadata": {},
   "outputs": [
    {
     "data": {
      "text/plain": [
       "0                                    fret winning suit\n",
       "1           rift officers killings persist south bronx\n",
       "2    tyrus wong bambi artist thwarted racial bias d...\n",
       "3                     among deaths 2016 toll pop music\n",
       "4    kim jongun north korea preparing test longrang...\n",
       "Name: title, dtype: object"
      ]
     },
     "execution_count": 22,
     "metadata": {},
     "output_type": "execute_result"
    }
   ],
   "source": [
    "rare = list(rare.index)\n",
    "train['title'] = train['title'].apply(lambda x: \" \".join(x for x in x.split() if x not in rare))\n",
    "train['title'].head()"
   ]
  },
  {
   "cell_type": "code",
   "execution_count": 23,
   "metadata": {},
   "outputs": [
    {
     "data": {
      "text/plain": [
       "0                                     fret winning suit\n",
       "1              rift officers killing persist south bone\n",
       "2     cyrus long baby artist hearted racial bias die...\n",
       "3                      among deaths 2016 toll pop music\n",
       "4     him tongue north more preparing test longrange...\n",
       "5              sick cold queen elizabeth misses service\n",
       "6                  taiwans accuses renewed intimidation\n",
       "7             biggest lower bodies fought regain weight\n",
       "8                                       mistake romance\n",
       "9                    calling angels enduring trials job\n",
       "10    weak federal powers limit troops climatepolicy...\n",
       "11                    carbon capture technology prosper\n",
       "12             maralago future winter white home calmer\n",
       "13                              form healthy habits was\n",
       "14                     turning vacation photo works art\n",
       "15     second avenue opens train delay ends happy tears\n",
       "16                  roof rejects best defense execution\n",
       "17    modes cash ban brings pain corruptionweary ind...\n",
       "18                      suicide coming baghdad least 36\n",
       "19       pollution saints water melbourne reaches storm\n",
       "20                    nl playoffs schedule matches odds\n",
       "21    maria cares manager blame producers eve nightmare\n",
       "22                          damaged cultural sites rise\n",
       "23            george michael freedom video oral history\n",
       "24               congress convene dramas policies peril\n",
       "25                                           ball court\n",
       "26                           istanbul netanyahu morning\n",
       "27          defense secretary pick efforts halt torture\n",
       "28    iris claims responsibility istanbul nightclub ...\n",
       "29                                     afghan evolution\n",
       "                            ...                        \n",
       "66                       put together 52 places go list\n",
       "67                            places put hands together\n",
       "68                        getting around rail sail foot\n",
       "69                            5 muster shows your month\n",
       "70              remarking penned airport governors next\n",
       "71                                        cyberwar sale\n",
       "72                                       talking ghosts\n",
       "73                 men dont want jobs done mostly women\n",
       "74                             apple removed apes store\n",
       "75               fed officials see economic growth boom\n",
       "76     rockefeller foundation pick rapid j shah trustee\n",
       "77      philippines jailbreak frees 150 inmates manhunt\n",
       "78                enough sweets china state media tells\n",
       "79    coming carnival bruises bearable medallion rec...\n",
       "80    creditreporting agencies must pay 23 million d...\n",
       "81    coal fire iceberg doomed titanic journalist cl...\n",
       "82      chase sapphire reserve cards huge bonus slashed\n",
       "83             broadway breaks multiple records weekend\n",
       "84    italian inmates sip smell taste way rehabilita...\n",
       "85                 2017 class divide dissected one time\n",
       "86     michael eric don believes individual reparations\n",
       "87                            sale conde last treasures\n",
       "88    counting partisan voices strongly affirm findi...\n",
       "89    dan coats mister rogers senator intelligence c...\n",
       "90                 perfect weapon cyberpower invaded us\n",
       "91             said torture works echo feared worldwide\n",
       "92                           step repeal unfordable act\n",
       "93    break precedent envoys denied extensions past ...\n",
       "94                              takes democrats law lit\n",
       "95    ending speculation black college band play ina...\n",
       "Name: title, Length: 96, dtype: object"
      ]
     },
     "execution_count": 23,
     "metadata": {},
     "output_type": "execute_result"
    }
   ],
   "source": [
    "#Spelling correction\n",
    "train['title'].apply(lambda x: str(TextBlob(x).correct()))"
   ]
  },
  {
   "cell_type": "code",
   "execution_count": 24,
   "metadata": {},
   "outputs": [
    {
     "data": {
      "text/plain": [
       "WordList(['rift', 'officers', 'killings', 'persist', 'south', 'bronx'])"
      ]
     },
     "execution_count": 24,
     "metadata": {},
     "output_type": "execute_result"
    }
   ],
   "source": [
    "#Tokenization - dividing the text into a sequence of words or sentences\n",
    "#we have used the textblob library to first transform our data into a blob and then converted them into a series of words\n",
    "TextBlob(train['title'][1]).words\n"
   ]
  },
  {
   "cell_type": "code",
   "execution_count": 26,
   "metadata": {},
   "outputs": [
    {
     "data": {
      "text/plain": [
       "0                                         fret win suit\n",
       "1                   rift offic kill persist south bronx\n",
       "2      tyru wong bambi artist thwart racial bia die 106\n",
       "3                       among death 2016 toll pop music\n",
       "4     kim jongun north korea prepar test longrang mi...\n",
       "5                 sick cold queen elizabeth miss servic\n",
       "6                            taiwan accus renew intimid\n",
       "7               biggest loser bodi fought regain weight\n",
       "8                                         mixtap romanc\n",
       "9                            call angel endur trial job\n",
       "10    weak feder power limit trump climatepolici rol...\n",
       "11                      carbon captur technolog prosper\n",
       "12              maralago futur winter white home calmer\n",
       "13                                form healthi habit 20\n",
       "14                            turn vacat photo work art\n",
       "15         second avenu open train delay end happi tear\n",
       "16                       roof reject best defens execut\n",
       "17    modi cash ban bring pain corruptionweari india...\n",
       "18                         suicid bomb baghdad least 36\n",
       "19              pollut taint water melbourn beach storm\n",
       "20                      nfl playoff schedul matchup odd\n",
       "21         mariah carey manag blame produc eve nightmar\n",
       "22                               damag cultur site rise\n",
       "23             georg michael freedom video oral histori\n",
       "24                   congress conven obama polici peril\n",
       "25                                           ball court\n",
       "26                              istanbul netanyahu morn\n",
       "27             defens secretari pick effort halt tortur\n",
       "28          isi claim respons istanbul nightclub attack\n",
       "29                                        afghan evolut\n",
       "                            ...                        \n",
       "66                          put togeth 52 place go list\n",
       "67                                place put hand togeth\n",
       "68                            get around rail sail foot\n",
       "69                             5 mustse show your month\n",
       "70                  remak kennedi airport governor next\n",
       "71                                        cyberwar sale\n",
       "72                                           talk ghost\n",
       "73                  men dont want job done mostli women\n",
       "74                                 appl remov app store\n",
       "75                    fed offici see econom growth boom\n",
       "76            rockefel foundat pick rajiv j shah truste\n",
       "77           philippin jailbreak free 150 inmat manhunt\n",
       "78                  enough tweet china state media tell\n",
       "79    come carniv cruis wearabl medallion record eve...\n",
       "80    creditreport agenc must pay 23 million decept ...\n",
       "81        coal fire iceberg doom titan journalist claim\n",
       "82            chase sapphir reserv card huge bonu slash\n",
       "83                broadway break multipl record weekend\n",
       "84           italian inmat sip smell tast way rehabilit\n",
       "85                    2017 class divid dissect one time\n",
       "86             michael eric dyson believ individu repar\n",
       "87                              sale condé nast treasur\n",
       "88    counter bipartisan voic strongli affirm find hack\n",
       "89           dan coat mister roger senat intellig chief\n",
       "90                     perfect weapon cyberpow invad us\n",
       "91                  said tortur work echo fear worldwid\n",
       "92                              4step repeal afford act\n",
       "93          break preced envoy deni extens past inaugur\n",
       "94                              take democrat law blitz\n",
       "95      end specul black colleg band play inaugur parad\n",
       "Name: title, Length: 96, dtype: object"
      ]
     },
     "execution_count": 26,
     "metadata": {},
     "output_type": "execute_result"
    }
   ],
   "source": [
    "#Stemming -  removal of suffices, like “ing”, “ly”, “s”\n",
    "from nltk.stem import PorterStemmer\n",
    "st = PorterStemmer()\n",
    "train['title'].apply(lambda x: \" \".join([st.stem(word) for word in x.split()]))"
   ]
  },
  {
   "cell_type": "code",
   "execution_count": 28,
   "metadata": {},
   "outputs": [
    {
     "data": {
      "text/plain": [
       "0                                    fret winning suit\n",
       "1             rift officer killing persist south bronx\n",
       "2    tyrus wong bambi artist thwarted racial bias d...\n",
       "3                      among death 2016 toll pop music\n",
       "4    kim jongun north korea preparing test longrang...\n",
       "Name: title, dtype: object"
      ]
     },
     "execution_count": 28,
     "metadata": {},
     "output_type": "execute_result"
    }
   ],
   "source": [
    "#Lemmatization - it converts the word into its root word\n",
    "from textblob import Word\n",
    "train['title'] = train['title'].apply(lambda x: \" \".join([Word(word).lemmatize() for word in x.split()]))\n",
    "train['title'].head()"
   ]
  },
  {
   "cell_type": "markdown",
   "metadata": {},
   "source": [
    "### 3. Advance Text Processing\n",
    " "
   ]
  },
  {
   "cell_type": "code",
   "execution_count": 29,
   "metadata": {},
   "outputs": [
    {
     "data": {
      "text/plain": [
       "[WordList(['fret', 'winning']), WordList(['winning', 'suit'])]"
      ]
     },
     "execution_count": 29,
     "metadata": {},
     "output_type": "execute_result"
    }
   ],
   "source": [
    "#N-grams - combination of multiple words used together.\n",
    "TextBlob(train['title'][0]).ngrams(2)\n"
   ]
  },
  {
   "cell_type": "code",
   "execution_count": 33,
   "metadata": {},
   "outputs": [
    {
     "data": {
      "text/html": [
       "<div>\n",
       "<style scoped>\n",
       "    .dataframe tbody tr th:only-of-type {\n",
       "        vertical-align: middle;\n",
       "    }\n",
       "\n",
       "    .dataframe tbody tr th {\n",
       "        vertical-align: top;\n",
       "    }\n",
       "\n",
       "    .dataframe thead th {\n",
       "        text-align: right;\n",
       "    }\n",
       "</style>\n",
       "<table border=\"1\" class=\"dataframe\">\n",
       "  <thead>\n",
       "    <tr style=\"text-align: right;\">\n",
       "      <th></th>\n",
       "      <th>words</th>\n",
       "      <th>tf</th>\n",
       "    </tr>\n",
       "  </thead>\n",
       "  <tbody>\n",
       "    <tr>\n",
       "      <th>0</th>\n",
       "      <td>rift</td>\n",
       "      <td>1</td>\n",
       "    </tr>\n",
       "    <tr>\n",
       "      <th>1</th>\n",
       "      <td>bronx</td>\n",
       "      <td>1</td>\n",
       "    </tr>\n",
       "    <tr>\n",
       "      <th>2</th>\n",
       "      <td>persist</td>\n",
       "      <td>1</td>\n",
       "    </tr>\n",
       "    <tr>\n",
       "      <th>3</th>\n",
       "      <td>south</td>\n",
       "      <td>1</td>\n",
       "    </tr>\n",
       "    <tr>\n",
       "      <th>4</th>\n",
       "      <td>killing</td>\n",
       "      <td>1</td>\n",
       "    </tr>\n",
       "    <tr>\n",
       "      <th>5</th>\n",
       "      <td>officer</td>\n",
       "      <td>1</td>\n",
       "    </tr>\n",
       "  </tbody>\n",
       "</table>\n",
       "</div>"
      ],
      "text/plain": [
       "     words  tf\n",
       "0     rift   1\n",
       "1    bronx   1\n",
       "2  persist   1\n",
       "3    south   1\n",
       "4  killing   1\n",
       "5  officer   1"
      ]
     },
     "execution_count": 33,
     "metadata": {},
     "output_type": "execute_result"
    }
   ],
   "source": [
    "# Term frequency - ratio of the count of a word present in a sentence, to the length of the sentence\n",
    "tf1 = (train['title'][1:2]).apply(lambda x: pd.value_counts(x.split(\" \"))).sum(axis = 0).reset_index()\n",
    "tf1.columns = ['words','tf']\n",
    "tf1"
   ]
  },
  {
   "cell_type": "code",
   "execution_count": 35,
   "metadata": {},
   "outputs": [
    {
     "data": {
      "text/html": [
       "<div>\n",
       "<style scoped>\n",
       "    .dataframe tbody tr th:only-of-type {\n",
       "        vertical-align: middle;\n",
       "    }\n",
       "\n",
       "    .dataframe tbody tr th {\n",
       "        vertical-align: top;\n",
       "    }\n",
       "\n",
       "    .dataframe thead th {\n",
       "        text-align: right;\n",
       "    }\n",
       "</style>\n",
       "<table border=\"1\" class=\"dataframe\">\n",
       "  <thead>\n",
       "    <tr style=\"text-align: right;\">\n",
       "      <th></th>\n",
       "      <th>words</th>\n",
       "      <th>tf</th>\n",
       "      <th>idf</th>\n",
       "    </tr>\n",
       "  </thead>\n",
       "  <tbody>\n",
       "    <tr>\n",
       "      <th>0</th>\n",
       "      <td>rift</td>\n",
       "      <td>1</td>\n",
       "      <td>4.564348</td>\n",
       "    </tr>\n",
       "    <tr>\n",
       "      <th>1</th>\n",
       "      <td>bronx</td>\n",
       "      <td>1</td>\n",
       "      <td>4.564348</td>\n",
       "    </tr>\n",
       "    <tr>\n",
       "      <th>2</th>\n",
       "      <td>persist</td>\n",
       "      <td>1</td>\n",
       "      <td>4.564348</td>\n",
       "    </tr>\n",
       "    <tr>\n",
       "      <th>3</th>\n",
       "      <td>south</td>\n",
       "      <td>1</td>\n",
       "      <td>4.564348</td>\n",
       "    </tr>\n",
       "    <tr>\n",
       "      <th>4</th>\n",
       "      <td>killing</td>\n",
       "      <td>1</td>\n",
       "      <td>4.564348</td>\n",
       "    </tr>\n",
       "    <tr>\n",
       "      <th>5</th>\n",
       "      <td>officer</td>\n",
       "      <td>1</td>\n",
       "      <td>4.564348</td>\n",
       "    </tr>\n",
       "  </tbody>\n",
       "</table>\n",
       "</div>"
      ],
      "text/plain": [
       "     words  tf       idf\n",
       "0     rift   1  4.564348\n",
       "1    bronx   1  4.564348\n",
       "2  persist   1  4.564348\n",
       "3    south   1  4.564348\n",
       "4  killing   1  4.564348\n",
       "5  officer   1  4.564348"
      ]
     },
     "execution_count": 35,
     "metadata": {},
     "output_type": "execute_result"
    }
   ],
   "source": [
    "#Inverse Document Frequency - log of the ratio of the total number of rows to the number of rows in which that word is present\n",
    "import numpy as np\n",
    "for i,word in enumerate(tf1['words']):\n",
    "  tf1.loc[i, 'idf'] = np.log(train.shape[0]/(len(train[train['title'].str.contains(word)])))\n",
    "\n",
    "tf1"
   ]
  },
  {
   "cell_type": "code",
   "execution_count": 36,
   "metadata": {},
   "outputs": [
    {
     "data": {
      "text/html": [
       "<div>\n",
       "<style scoped>\n",
       "    .dataframe tbody tr th:only-of-type {\n",
       "        vertical-align: middle;\n",
       "    }\n",
       "\n",
       "    .dataframe tbody tr th {\n",
       "        vertical-align: top;\n",
       "    }\n",
       "\n",
       "    .dataframe thead th {\n",
       "        text-align: right;\n",
       "    }\n",
       "</style>\n",
       "<table border=\"1\" class=\"dataframe\">\n",
       "  <thead>\n",
       "    <tr style=\"text-align: right;\">\n",
       "      <th></th>\n",
       "      <th>words</th>\n",
       "      <th>tf</th>\n",
       "      <th>idf</th>\n",
       "      <th>tfidf</th>\n",
       "    </tr>\n",
       "  </thead>\n",
       "  <tbody>\n",
       "    <tr>\n",
       "      <th>0</th>\n",
       "      <td>rift</td>\n",
       "      <td>1</td>\n",
       "      <td>4.564348</td>\n",
       "      <td>4.564348</td>\n",
       "    </tr>\n",
       "    <tr>\n",
       "      <th>1</th>\n",
       "      <td>bronx</td>\n",
       "      <td>1</td>\n",
       "      <td>4.564348</td>\n",
       "      <td>4.564348</td>\n",
       "    </tr>\n",
       "    <tr>\n",
       "      <th>2</th>\n",
       "      <td>persist</td>\n",
       "      <td>1</td>\n",
       "      <td>4.564348</td>\n",
       "      <td>4.564348</td>\n",
       "    </tr>\n",
       "    <tr>\n",
       "      <th>3</th>\n",
       "      <td>south</td>\n",
       "      <td>1</td>\n",
       "      <td>4.564348</td>\n",
       "      <td>4.564348</td>\n",
       "    </tr>\n",
       "    <tr>\n",
       "      <th>4</th>\n",
       "      <td>killing</td>\n",
       "      <td>1</td>\n",
       "      <td>4.564348</td>\n",
       "      <td>4.564348</td>\n",
       "    </tr>\n",
       "    <tr>\n",
       "      <th>5</th>\n",
       "      <td>officer</td>\n",
       "      <td>1</td>\n",
       "      <td>4.564348</td>\n",
       "      <td>4.564348</td>\n",
       "    </tr>\n",
       "  </tbody>\n",
       "</table>\n",
       "</div>"
      ],
      "text/plain": [
       "     words  tf       idf     tfidf\n",
       "0     rift   1  4.564348  4.564348\n",
       "1    bronx   1  4.564348  4.564348\n",
       "2  persist   1  4.564348  4.564348\n",
       "3    south   1  4.564348  4.564348\n",
       "4  killing   1  4.564348  4.564348\n",
       "5  officer   1  4.564348  4.564348"
      ]
     },
     "execution_count": 36,
     "metadata": {},
     "output_type": "execute_result"
    }
   ],
   "source": [
    "#Term Frequency – Inverse Document Frequency (TF-IDF) - multiplication of the TF and IDF \n",
    "tf1['tfidf'] = tf1['tf'] * tf1['idf']\n",
    "tf1\n"
   ]
  },
  {
   "cell_type": "code",
   "execution_count": 38,
   "metadata": {},
   "outputs": [
    {
     "data": {
      "text/plain": [
       "<96x445 sparse matrix of type '<class 'numpy.float64'>'\n",
       "\twith 490 stored elements in Compressed Sparse Row format>"
      ]
     },
     "execution_count": 38,
     "metadata": {},
     "output_type": "execute_result"
    }
   ],
   "source": [
    "from sklearn.feature_extraction.text import TfidfVectorizer\n",
    "tfidf = TfidfVectorizer(max_features=1000, lowercase=True, analyzer='word',\n",
    " stop_words= 'english',ngram_range=(1,1))\n",
    "train_vect = tfidf.fit_transform(train['title'])\n",
    "\n",
    "train_vect\n"
   ]
  },
  {
   "cell_type": "code",
   "execution_count": 39,
   "metadata": {},
   "outputs": [
    {
     "data": {
      "text/plain": [
       "<96x470 sparse matrix of type '<class 'numpy.int64'>'\n",
       "\twith 522 stored elements in Compressed Sparse Row format>"
      ]
     },
     "execution_count": 39,
     "metadata": {},
     "output_type": "execute_result"
    }
   ],
   "source": [
    "#Bag of Words - representation of text which describes the presence of words within the text data\n",
    "from sklearn.feature_extraction.text import CountVectorizer\n",
    "bow = CountVectorizer(max_features=1000, lowercase=True, ngram_range=(1,1),analyzer = \"word\")\n",
    "train_bow = bow.fit_transform(train['title'])\n",
    "train_bow\n"
   ]
  },
  {
   "cell_type": "code",
   "execution_count": 53,
   "metadata": {},
   "outputs": [
    {
     "data": {
      "text/plain": [
       "(400000, 100)"
      ]
     },
     "execution_count": 53,
     "metadata": {},
     "output_type": "execute_result"
    }
   ],
   "source": [
    "# Word Embeddings\n",
    "from gensim.scripts.glove2word2vec import glove2word2vec\n",
    "glove_input_file = 'glove.6B.100d.txt'\n",
    "word2vec_output_file = 'glove.6B.100d.txt.word2vec'\n",
    "# convert it into the word2vec format\n",
    "glove2word2vec(glove_input_file, word2vec_output_file)"
   ]
  },
  {
   "cell_type": "code",
   "execution_count": 55,
   "metadata": {},
   "outputs": [],
   "source": [
    "#load the above word2vec file as a model\n",
    "from gensim.models import KeyedVectors # load the Stanford GloVe model\n",
    "filename = 'glove.6B.100d.txt.word2vec'\n",
    "model = KeyedVectors.load_word2vec_format(filename, binary=False)"
   ]
  },
  {
   "cell_type": "code",
   "execution_count": 56,
   "metadata": {},
   "outputs": [
    {
     "data": {
      "text/plain": [
       "array([-0.078894,  0.4616  ,  0.57779 , -0.71637 , -0.13121 ,  0.4186  ,\n",
       "       -0.29156 ,  0.52006 ,  0.089986, -0.35062 ,  0.51755 ,  0.51998 ,\n",
       "        0.15218 ,  0.41485 , -0.12377 , -0.37222 ,  0.0273  ,  0.75673 ,\n",
       "       -0.8739  ,  0.58935 ,  0.46662 ,  0.62918 ,  0.092603, -0.012868,\n",
       "       -0.015169,  0.25567 , -0.43025 , -0.77668 ,  0.71449 , -0.3834  ,\n",
       "       -0.69638 ,  0.23522 ,  0.11396 ,  0.02778 ,  0.071357,  0.87409 ,\n",
       "       -0.1281  ,  0.063576,  0.067867, -0.50181 , -0.28523 , -0.072536,\n",
       "       -0.50738 , -0.6914  , -0.53579 , -0.11361 , -0.38234 , -0.12414 ,\n",
       "        0.011214, -1.1622  ,  0.037057, -0.18495 ,  0.01416 ,  0.87193 ,\n",
       "       -0.097309, -2.3565  , -0.14554 ,  0.28275 ,  2.0053  ,  0.23439 ,\n",
       "       -0.38298 ,  0.69539 , -0.44916 , -0.094157,  0.90527 ,  0.65764 ,\n",
       "        0.27628 ,  0.30688 , -0.57781 , -0.22987 , -0.083043, -0.57236 ,\n",
       "       -0.299   , -0.81112 ,  0.039752, -0.05681 , -0.48879 , -0.18091 ,\n",
       "       -0.28152 , -0.20559 ,  0.4932  , -0.033999, -0.53139 , -0.28297 ,\n",
       "       -1.4475  , -0.18685 ,  0.091177,  0.11454 , -0.28168 , -0.33565 ,\n",
       "       -0.31663 , -0.1089  ,  0.10111 , -0.23737 , -0.64955 , -0.268   ,\n",
       "        0.35096 ,  0.26352 ,  0.59397 ,  0.26741 ], dtype=float32)"
      ]
     },
     "execution_count": 56,
     "metadata": {},
     "output_type": "execute_result"
    }
   ],
   "source": [
    "model['go']\n"
   ]
  },
  {
   "cell_type": "code",
   "execution_count": 57,
   "metadata": {},
   "outputs": [
    {
     "data": {
      "text/plain": [
       "array([-0.10379 , -0.014792,  0.59933 , -0.51316 , -0.036463,  0.6588  ,\n",
       "       -0.57906 ,  0.17819 ,  0.23663 , -0.21384 ,  0.55339 ,  0.53597 ,\n",
       "        0.041444,  0.16095 ,  0.017093, -0.37242 ,  0.017974,  0.39268 ,\n",
       "       -0.23265 ,  0.1818  ,  0.66405 ,  0.98163 ,  0.42339 ,  0.030581,\n",
       "        0.35015 ,  0.25519 , -0.71182 , -0.42184 ,  0.13068 , -0.47452 ,\n",
       "       -0.08175 ,  0.1574  , -0.13262 ,  0.22679 , -0.16885 , -0.11122 ,\n",
       "       -0.32272 , -0.020978, -0.43345 ,  0.172   , -0.67366 , -0.79052 ,\n",
       "        0.10556 , -0.4219  , -0.12385 , -0.063486, -0.17843 ,  0.56359 ,\n",
       "        0.16986 , -0.17804 ,  0.13956 , -0.20169 ,  0.078985,  1.4497  ,\n",
       "        0.23556 , -2.6014  , -0.5286  , -0.11636 ,  1.7184  ,  0.33254 ,\n",
       "        0.12136 ,  1.1602  , -0.2914  ,  0.47125 ,  0.41869 ,  0.35271 ,\n",
       "        0.47869 , -0.042281, -0.18294 ,  0.1796  , -0.24431 , -0.34042 ,\n",
       "        0.20337 , -0.93676 ,  0.013077,  0.080339, -0.36604 , -0.44005 ,\n",
       "       -0.35393 ,  0.15907 ,  0.55807 ,  0.1492  , -0.86433 ,  0.040305,\n",
       "       -1.0939  , -0.26386 , -0.29494 ,  0.25696 , -0.33718 , -0.086468,\n",
       "       -0.24246 , -0.21114 ,  0.099632,  0.12815 , -0.78714 , -0.51785 ,\n",
       "       -0.10944 ,  0.9763  ,  0.57032 ,  0.13581 ], dtype=float32)"
      ]
     },
     "execution_count": 57,
     "metadata": {},
     "output_type": "execute_result"
    }
   ],
   "source": [
    "model['away']\n"
   ]
  },
  {
   "cell_type": "code",
   "execution_count": 59,
   "metadata": {},
   "outputs": [
    {
     "data": {
      "text/plain": [
       "array([-0.091342  ,  0.223404  ,  0.58856   , -0.614765  , -0.0838365 ,\n",
       "        0.5387    , -0.43531   ,  0.349125  ,  0.163308  , -0.28223   ,\n",
       "        0.53547   ,  0.52797496,  0.096812  ,  0.2879    , -0.0533385 ,\n",
       "       -0.37232   ,  0.022637  ,  0.574705  , -0.553275  ,  0.385575  ,\n",
       "        0.565335  ,  0.805405  ,  0.2579965 ,  0.0088565 ,  0.1674905 ,\n",
       "        0.25543   , -0.571035  , -0.59926   ,  0.422585  , -0.42896   ,\n",
       "       -0.389065  ,  0.19631   , -0.00933   ,  0.127285  , -0.0487465 ,\n",
       "        0.381435  , -0.22540998,  0.021299  , -0.1827915 , -0.16490501,\n",
       "       -0.47944498, -0.431528  , -0.20091   , -0.55665   , -0.32982   ,\n",
       "       -0.088548  , -0.28038502,  0.219725  ,  0.090537  , -0.67012   ,\n",
       "        0.0883085 , -0.19332   ,  0.0465725 ,  1.160815  ,  0.0691255 ,\n",
       "       -2.47895   , -0.33707   ,  0.083195  ,  1.86185   ,  0.283465  ,\n",
       "       -0.13081   ,  0.927795  , -0.37028   ,  0.1885465 ,  0.66198   ,\n",
       "        0.505175  ,  0.37748498,  0.1322995 , -0.380375  , -0.025135  ,\n",
       "       -0.1636765 , -0.45639   , -0.047815  , -0.87394   ,  0.0264145 ,\n",
       "        0.0117645 , -0.427415  , -0.31048   , -0.317725  , -0.02326   ,\n",
       "        0.525635  ,  0.05760051, -0.69786   , -0.1213325 , -1.2707    ,\n",
       "       -0.225355  , -0.1018815 ,  0.18575001, -0.30943   , -0.211059  ,\n",
       "       -0.279545  , -0.16002001,  0.100371  , -0.05461   , -0.71834505,\n",
       "       -0.392925  ,  0.12075999,  0.61991   ,  0.582145  ,  0.20161   ],\n",
       "      dtype=float32)"
      ]
     },
     "execution_count": 59,
     "metadata": {},
     "output_type": "execute_result"
    }
   ],
   "source": [
    "# take the average to represent the string ‘go away’ in the form of vectors having 100 dimensions\n",
    "(model['go'] + model['away'])/2"
   ]
  },
  {
   "cell_type": "code",
   "execution_count": null,
   "metadata": {
    "collapsed": true
   },
   "outputs": [],
   "source": []
  }
 ],
 "metadata": {
  "kernelspec": {
   "display_name": "Python 3",
   "language": "python",
   "name": "python3"
  },
  "language_info": {
   "codemirror_mode": {
    "name": "ipython",
    "version": 3
   },
   "file_extension": ".py",
   "mimetype": "text/x-python",
   "name": "python",
   "nbconvert_exporter": "python",
   "pygments_lexer": "ipython3",
   "version": "3.6.3"
  }
 },
 "nbformat": 4,
 "nbformat_minor": 2
}
