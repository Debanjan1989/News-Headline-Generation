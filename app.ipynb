{
 "cells": [
  {
   "cell_type": "code",
   "execution_count": null,
   "metadata": {},
   "outputs": [
    {
     "name": "stderr",
     "output_type": "stream",
     "text": [
      " * Running on http://127.0.0.1:5000/ (Press CTRL+C to quit)\n",
      "127.0.0.1 - - [17/Apr/2018 20:46:53] \"GET / HTTP/1.1\" 200 -\n",
      "127.0.0.1 - - [17/Apr/2018 20:46:57] \"GET /index/ HTTP/1.1\" 200 -\n",
      "127.0.0.1 - - [17/Apr/2018 20:47:09] \"GET /index/? HTTP/1.1\" 200 -\n"
     ]
    }
   ],
   "source": [
    "from flask import Flask, flash, redirect, render_template, request, session, abort\n",
    "app = Flask(__name__)\n",
    " \n",
    "@app.route(\"/\")\n",
    "def index():\n",
    "    return \"Index!\"\n",
    " \n",
    "'''@app.route(\"/findname/<string:name>/\")\n",
    "def helloMe(name):\n",
    "    return render_template(\n",
    "        'test.html',name=name) '''\n",
    "\n",
    "\n",
    "@app.route(\"/index/\")\n",
    "def helloMe():\n",
    "    return render_template(\n",
    "        'index.html')\n",
    " \n",
    "if __name__ == \"__main__\":\n",
    "    app.run()"
   ]
  },
  {
   "cell_type": "code",
   "execution_count": null,
   "metadata": {
    "collapsed": true
   },
   "outputs": [],
   "source": []
  },
  {
   "cell_type": "code",
   "execution_count": null,
   "metadata": {
    "collapsed": true
   },
   "outputs": [],
   "source": []
  },
  {
   "cell_type": "code",
   "execution_count": null,
   "metadata": {
    "collapsed": true
   },
   "outputs": [],
   "source": []
  }
 ],
 "metadata": {
  "kernelspec": {
   "display_name": "Python 3",
   "language": "python",
   "name": "python3"
  },
  "language_info": {
   "codemirror_mode": {
    "name": "ipython",
    "version": 3
   },
   "file_extension": ".py",
   "mimetype": "text/x-python",
   "name": "python",
   "nbconvert_exporter": "python",
   "pygments_lexer": "ipython3",
   "version": "3.6.3"
  }
 },
 "nbformat": 4,
 "nbformat_minor": 2
}
